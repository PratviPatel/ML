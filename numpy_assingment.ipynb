{
  "cells": [
    {
      "cell_type": "markdown",
      "metadata": {
        "id": "8DMfY1XryQoj"
      },
      "source": [
        "# 100 numpy exercises\n",
        "\n",
        "This is a collection of exercises that have been collected in the numpy mailing list, on stack overflow\n",
        "and in the numpy documentation. The goal of this collection is to offer a quick reference for both old\n",
        "and new users.\n",
        "\n",
        "\n",
        "If you find an error or think you've a better way to solve some of them, feel\n",
        "free to open an issue at <https://github.com/rougier/numpy-100>."
      ],
      "id": "8DMfY1XryQoj"
    },
    {
      "cell_type": "markdown",
      "metadata": {
        "id": "_xzCo4DZyQon"
      },
      "source": [
        "File automatically generated. See the documentation to update questions/answers/hints programmatically."
      ],
      "id": "_xzCo4DZyQon"
    },
    {
      "cell_type": "markdown",
      "metadata": {
        "id": "zW5AlCMEyQoo"
      },
      "source": [
        "Run the `initialize.py` module, then for each question you can query the\n",
        "answer or an hint with `hint(n)` or `answer(n)` for `n` question number."
      ],
      "id": "zW5AlCMEyQoo"
    },
    {
      "cell_type": "code",
      "execution_count": null,
      "metadata": {
        "collapsed": true,
        "id": "3ARy5EU8yQop"
      },
      "outputs": [],
      "source": [
        ""
      ],
      "id": "3ARy5EU8yQop"
    },
    {
      "cell_type": "markdown",
      "metadata": {
        "id": "VV12IiILyQoq"
      },
      "source": [
        "#### 1. Import the numpy package under the name `np` (★☆☆)"
      ],
      "id": "VV12IiILyQoq"
    },
    {
      "cell_type": "code",
      "execution_count": 4,
      "metadata": {
        "collapsed": true,
        "id": "CAVioHLlyQor"
      },
      "outputs": [],
      "source": [
        "import numpy as np"
      ],
      "id": "CAVioHLlyQor"
    },
    {
      "cell_type": "markdown",
      "metadata": {
        "id": "hq7pM2JIyQot"
      },
      "source": [
        "#### 2. Print the numpy version and the configuration (★☆☆)"
      ],
      "id": "hq7pM2JIyQot"
    },
    {
      "cell_type": "code",
      "execution_count": 5,
      "metadata": {
        "colab": {
          "base_uri": "https://localhost:8080/"
        },
        "id": "TzeF8Y9IyQou",
        "outputId": "3e862a9d-ec3d-4daf-bf63-09c206fe1ee6"
      },
      "outputs": [
        {
          "output_type": "stream",
          "name": "stdout",
          "text": [
            "1.19.5\n",
            "blas_mkl_info:\n",
            "  NOT AVAILABLE\n",
            "blis_info:\n",
            "  NOT AVAILABLE\n",
            "openblas_info:\n",
            "    libraries = ['openblas', 'openblas']\n",
            "    library_dirs = ['/usr/local/lib']\n",
            "    language = c\n",
            "    define_macros = [('HAVE_CBLAS', None)]\n",
            "blas_opt_info:\n",
            "    libraries = ['openblas', 'openblas']\n",
            "    library_dirs = ['/usr/local/lib']\n",
            "    language = c\n",
            "    define_macros = [('HAVE_CBLAS', None)]\n",
            "lapack_mkl_info:\n",
            "  NOT AVAILABLE\n",
            "openblas_lapack_info:\n",
            "    libraries = ['openblas', 'openblas']\n",
            "    library_dirs = ['/usr/local/lib']\n",
            "    language = c\n",
            "    define_macros = [('HAVE_CBLAS', None)]\n",
            "lapack_opt_info:\n",
            "    libraries = ['openblas', 'openblas']\n",
            "    library_dirs = ['/usr/local/lib']\n",
            "    language = c\n",
            "    define_macros = [('HAVE_CBLAS', None)]\n",
            "None\n"
          ]
        }
      ],
      "source": [
        "print(np.__version__)\n",
        "print(np.show_config())"
      ],
      "id": "TzeF8Y9IyQou"
    },
    {
      "cell_type": "markdown",
      "metadata": {
        "id": "3sYr2pvnyQow"
      },
      "source": [
        "#### 3. Create a null vector of size 10 (★☆☆)"
      ],
      "id": "3sYr2pvnyQow"
    },
    {
      "cell_type": "code",
      "execution_count": 6,
      "metadata": {
        "colab": {
          "base_uri": "https://localhost:8080/"
        },
        "id": "Hk-cA416yQoy",
        "outputId": "02681332-ba5e-422c-c0f0-35cbe6881b32"
      },
      "outputs": [
        {
          "output_type": "stream",
          "name": "stdout",
          "text": [
            "[0. 0. 0. 0. 0. 0. 0. 0. 0. 0.]\n"
          ]
        }
      ],
      "source": [
        "x = np.zeros(10)\n",
        "print(x)"
      ],
      "id": "Hk-cA416yQoy"
    },
    {
      "cell_type": "markdown",
      "metadata": {
        "id": "ZUpIO4akyQoz"
      },
      "source": [
        "#### 4. How to find the memory size of any array (★☆☆)"
      ],
      "id": "ZUpIO4akyQoz"
    },
    {
      "cell_type": "code",
      "execution_count": 7,
      "metadata": {
        "colab": {
          "base_uri": "https://localhost:8080/"
        },
        "id": "hUBWLsW_yQo0",
        "outputId": "61109b9d-9c1a-4528-afd4-9a290a092791"
      },
      "outputs": [
        {
          "output_type": "stream",
          "name": "stdout",
          "text": [
            "16 bytes\n"
          ]
        }
      ],
      "source": [
        "n = np.array((4,4))\n",
        "print(\"%d bytes\" % (n.size * n.itemsize))"
      ],
      "id": "hUBWLsW_yQo0"
    },
    {
      "cell_type": "markdown",
      "metadata": {
        "id": "Lz_5hSRayQo1"
      },
      "source": [
        "#### 5. How to get the documentation of the numpy add function from the command line? (★☆☆)"
      ],
      "id": "Lz_5hSRayQo1"
    },
    {
      "cell_type": "code",
      "execution_count": 7,
      "metadata": {
        "collapsed": true,
        "id": "KYTsui3tyQo1"
      },
      "outputs": [],
      "source": [
        ""
      ],
      "id": "KYTsui3tyQo1"
    },
    {
      "cell_type": "markdown",
      "metadata": {
        "id": "VBOk50H7yQo2"
      },
      "source": [
        "#### 6. Create a null vector of size 10 but the fifth value which is 1 (★☆☆)"
      ],
      "id": "VBOk50H7yQo2"
    },
    {
      "cell_type": "code",
      "execution_count": 8,
      "metadata": {
        "colab": {
          "base_uri": "https://localhost:8080/"
        },
        "id": "MRzPhWLmyQo3",
        "outputId": "31a77c12-208d-4efe-989f-b3f7f9b1d7f8"
      },
      "outputs": [
        {
          "output_type": "stream",
          "name": "stdout",
          "text": [
            "[0. 0. 0. 0. 1. 0. 0. 0. 0. 0.]\n"
          ]
        }
      ],
      "source": [
        "a= np.zeros(10)\n",
        "a[4]=1\n",
        "print(a)"
      ],
      "id": "MRzPhWLmyQo3"
    },
    {
      "cell_type": "markdown",
      "metadata": {
        "id": "G0XWfnfMyQo3"
      },
      "source": [
        "#### 7. Create a vector with values ranging from 10 to 49 (★☆☆)"
      ],
      "id": "G0XWfnfMyQo3"
    },
    {
      "cell_type": "code",
      "execution_count": 9,
      "metadata": {
        "colab": {
          "base_uri": "https://localhost:8080/"
        },
        "id": "tejgaCByyQo4",
        "outputId": "20488f59-6c92-4456-ffd9-9d171113bf78"
      },
      "outputs": [
        {
          "output_type": "stream",
          "name": "stdout",
          "text": [
            "[10 11 12 13 14 15 16 17 18 19 20 21 22 23 24 25 26 27 28 29 30 31 32 33\n",
            " 34 35 36 37 38 39 40 41 42 43 44 45 46 47 48]\n"
          ]
        }
      ],
      "source": [
        "v = np.arange(10,49)\n",
        "print(v)\n"
      ],
      "id": "tejgaCByyQo4"
    },
    {
      "cell_type": "markdown",
      "metadata": {
        "id": "emmsmL3GyQo5"
      },
      "source": [
        "#### 8. Reverse a vector (first element becomes last) (★☆☆)"
      ],
      "id": "emmsmL3GyQo5"
    },
    {
      "cell_type": "code",
      "execution_count": 10,
      "metadata": {
        "colab": {
          "base_uri": "https://localhost:8080/"
        },
        "id": "yXYkf5gayQo6",
        "outputId": "a93a6369-be6f-4ecb-e2e1-b7d6b7608762"
      },
      "outputs": [
        {
          "output_type": "stream",
          "name": "stdout",
          "text": [
            "[48 47 46 45 44 43 42 41 40 39 38 37 36 35 34 33 32 31 30 29 28 27 26 25\n",
            " 24 23 22 21 20 19 18 17 16 15 14 13 12 11 10]\n"
          ]
        }
      ],
      "source": [
        "v = v[::-1]\n",
        "print(v)"
      ],
      "id": "yXYkf5gayQo6"
    },
    {
      "cell_type": "markdown",
      "metadata": {
        "id": "eRaxN8VwyQo7"
      },
      "source": [
        "#### 9. Create a 3x3 matrix with values ranging from 0 to 8 (★☆☆)"
      ],
      "id": "eRaxN8VwyQo7"
    },
    {
      "cell_type": "code",
      "execution_count": 11,
      "metadata": {
        "colab": {
          "base_uri": "https://localhost:8080/"
        },
        "id": "jRHGiQjRyQo7",
        "outputId": "81218a6d-67af-4432-b5ef-beacdfb71463"
      },
      "outputs": [
        {
          "output_type": "stream",
          "name": "stdout",
          "text": [
            "[[0 1 2]\n",
            " [3 4 5]\n",
            " [6 7 8]]\n"
          ]
        }
      ],
      "source": [
        "b =  np.arange(0,9).reshape(3,3)\n",
        "print(b)"
      ],
      "id": "jRHGiQjRyQo7"
    },
    {
      "cell_type": "markdown",
      "metadata": {
        "id": "FrEB5BfWyQo8"
      },
      "source": [
        "#### 10. Find indices of non-zero elements from [1,2,0,0,4,0] (★☆☆)"
      ],
      "id": "FrEB5BfWyQo8"
    },
    {
      "cell_type": "code",
      "execution_count": 12,
      "metadata": {
        "colab": {
          "base_uri": "https://localhost:8080/"
        },
        "id": "CA84o1cnyQo8",
        "outputId": "af1f2099-5089-4324-f159-8fdb12678e53"
      },
      "outputs": [
        {
          "output_type": "execute_result",
          "data": {
            "text/plain": [
              "(array([0, 1, 4]),)"
            ]
          },
          "metadata": {},
          "execution_count": 12
        }
      ],
      "source": [
        "x = np.array([1,2,0,0,4,0])\n",
        "np.nonzero(x)"
      ],
      "id": "CA84o1cnyQo8"
    },
    {
      "cell_type": "markdown",
      "metadata": {
        "id": "B3_7cf2KyQo9"
      },
      "source": [
        "#### 11. Create a 3x3 identity matrix (★☆☆)"
      ],
      "id": "B3_7cf2KyQo9"
    },
    {
      "cell_type": "code",
      "execution_count": 13,
      "metadata": {
        "colab": {
          "base_uri": "https://localhost:8080/"
        },
        "id": "MCsD99p7yQo-",
        "outputId": "b06aea3a-694a-4d33-cb22-dec6ac6fc84e"
      },
      "outputs": [
        {
          "output_type": "stream",
          "name": "stdout",
          "text": [
            "[[10 11 12]\n",
            " [13 14 15]\n",
            " [16 17 18]]\n"
          ]
        }
      ],
      "source": [
        "c=  np.arange(10,19).reshape(3,3)\n",
        "print(c)"
      ],
      "id": "MCsD99p7yQo-"
    },
    {
      "cell_type": "markdown",
      "metadata": {
        "id": "wpKcbkWyyQo_"
      },
      "source": [
        "#### 12. Create a 3x3x3 array with random values (★☆☆)"
      ],
      "id": "wpKcbkWyyQo_"
    },
    {
      "cell_type": "code",
      "execution_count": 14,
      "metadata": {
        "colab": {
          "base_uri": "https://localhost:8080/"
        },
        "id": "ygBcvHvWyQo_",
        "outputId": "e85350ac-1728-4e3f-bedd-9d65a63b8a34"
      },
      "outputs": [
        {
          "output_type": "stream",
          "name": "stdout",
          "text": [
            "[[[0.92358055 0.83721413 0.2272154 ]\n",
            "  [0.06969742 0.51795185 0.14358468]\n",
            "  [0.16558677 0.57768359 0.88975713]]\n",
            "\n",
            " [[0.06503456 0.4399334  0.84280137]\n",
            "  [0.36837463 0.92612939 0.64974174]\n",
            "  [0.83222373 0.85245432 0.68441201]]\n",
            "\n",
            " [[0.25686672 0.52254344 0.60617745]\n",
            "  [0.85246282 0.2577176  0.31431088]\n",
            "  [0.1279257  0.62132202 0.8544987 ]]]\n"
          ]
        }
      ],
      "source": [
        "x = np.random.random((3,3,3))\n",
        "print(x)"
      ],
      "id": "ygBcvHvWyQo_"
    },
    {
      "cell_type": "markdown",
      "metadata": {
        "id": "03QJINkgyQpA"
      },
      "source": [
        "#### 13. Create a 10x10 array with random values and find the minimum and maximum values (★☆☆)"
      ],
      "id": "03QJINkgyQpA"
    },
    {
      "cell_type": "code",
      "execution_count": 15,
      "metadata": {
        "colab": {
          "base_uri": "https://localhost:8080/"
        },
        "id": "Vg9PMoqSyQpA",
        "outputId": "eaf52774-30a7-454d-d784-61f666734097"
      },
      "outputs": [
        {
          "output_type": "stream",
          "name": "stdout",
          "text": [
            "[[0.28198796 0.88777844 0.70497737 0.0596878  0.5680579  0.40228498\n",
            "  0.14468376 0.79030697 0.78875557 0.03757967]\n",
            " [0.25044943 0.89402089 0.31395415 0.64488644 0.99728046 0.53463635\n",
            "  0.46867769 0.34387587 0.77764049 0.98288545]\n",
            " [0.54713852 0.02844745 0.475534   0.9232503  0.49323568 0.63069331\n",
            "  0.90485594 0.14592765 0.18537634 0.5637089 ]\n",
            " [0.99695922 0.18260082 0.87750348 0.29377895 0.3701689  0.55349733\n",
            "  0.1691266  0.64954892 0.35546324 0.72486772]\n",
            " [0.39619235 0.02631896 0.20757955 0.75980946 0.11436385 0.26770753\n",
            "  0.39651661 0.33675063 0.67636886 0.11156298]\n",
            " [0.5925202  0.02566719 0.86695568 0.58294751 0.4276413  0.0625767\n",
            "  0.46987921 0.88593561 0.54330597 0.69946792]\n",
            " [0.60053818 0.28791589 0.93918143 0.36307073 0.95115308 0.01005543\n",
            "  0.67002822 0.69316051 0.00116667 0.10229292]\n",
            " [0.97191003 0.50703725 0.39210912 0.101829   0.02951334 0.59958789\n",
            "  0.30397449 0.64138022 0.38554985 0.66811763]\n",
            " [0.42053255 0.52653449 0.32515441 0.32412456 0.87789785 0.02570721\n",
            "  0.89583456 0.71536789 0.01291626 0.86658874]\n",
            " [0.35481571 0.2084109  0.61061363 0.36069578 0.57612943 0.12236483\n",
            "  0.02995761 0.60091907 0.46560273 0.92602974]]\n"
          ]
        }
      ],
      "source": [
        "x= np.random.random((10,10))\n",
        "print(x)"
      ],
      "id": "Vg9PMoqSyQpA"
    },
    {
      "cell_type": "markdown",
      "metadata": {
        "id": "VtOwY1odyQpB"
      },
      "source": [
        "#### 14. Create a random vector of size 30 and find the mean value (★☆☆)"
      ],
      "id": "VtOwY1odyQpB"
    },
    {
      "cell_type": "code",
      "execution_count": 16,
      "metadata": {
        "colab": {
          "base_uri": "https://localhost:8080/"
        },
        "id": "eJfT_ryWyQpC",
        "outputId": "6e423847-dcc9-4d94-985d-76cc0dc94e83"
      },
      "outputs": [
        {
          "output_type": "stream",
          "name": "stdout",
          "text": [
            "Original array:\n",
            "[0.33302551 0.27437387 0.19608133 0.56814952 0.9586172  0.45179069\n",
            " 0.49797369 0.45223193 0.78844567 0.10116346]\n",
            "Sorted array:\n",
            "[0.10116346 0.19608133 0.27437387 0.33302551 0.45179069 0.45223193\n",
            " 0.49797369 0.56814952 0.78844567 0.9586172 ]\n"
          ]
        }
      ],
      "source": [
        "x = np.random.random(10)\n",
        "print(\"Original array:\")\n",
        "print(x)\n",
        "x.sort()\n",
        "print(\"Sorted array:\")\n",
        "print(x)"
      ],
      "id": "eJfT_ryWyQpC"
    },
    {
      "cell_type": "markdown",
      "metadata": {
        "id": "hDOm18uCyQpC"
      },
      "source": [
        "#### 15. Create a 2d array with 1 on the border and 0 inside (★☆☆)"
      ],
      "id": "hDOm18uCyQpC"
    },
    {
      "cell_type": "code",
      "execution_count": 17,
      "metadata": {
        "colab": {
          "base_uri": "https://localhost:8080/"
        },
        "id": "jfphTEiqyQpD",
        "outputId": "3d16545a-2b51-4384-9401-a683c1ca0359"
      },
      "outputs": [
        {
          "output_type": "stream",
          "name": "stdout",
          "text": [
            "Original array:\n",
            "[[1. 1. 1. 1. 1.]\n",
            " [1. 1. 1. 1. 1.]\n",
            " [1. 1. 1. 1. 1.]\n",
            " [1. 1. 1. 1. 1.]\n",
            " [1. 1. 1. 1. 1.]]\n",
            "1 on the border and 0 inside in the array\n",
            "[[1. 1. 1. 1. 1.]\n",
            " [1. 0. 0. 0. 1.]\n",
            " [1. 0. 0. 0. 1.]\n",
            " [1. 0. 0. 0. 1.]\n",
            " [1. 1. 1. 1. 1.]]\n"
          ]
        }
      ],
      "source": [
        "x = np.ones((5,5))\n",
        "print(\"Original array:\")\n",
        "print(x)\n",
        "print(\"1 on the border and 0 inside in the array\")\n",
        "x[1:-1,1:-1] = 0\n",
        "print(x)"
      ],
      "id": "jfphTEiqyQpD"
    },
    {
      "cell_type": "markdown",
      "metadata": {
        "id": "UjTnOeRmyQpD"
      },
      "source": [
        "#### 16. How to add a border (filled with 0's) around an existing array? (★☆☆)"
      ],
      "id": "UjTnOeRmyQpD"
    },
    {
      "cell_type": "code",
      "execution_count": 17,
      "metadata": {
        "id": "2fkezoBdyQpE"
      },
      "outputs": [],
      "source": [
        ""
      ],
      "id": "2fkezoBdyQpE"
    },
    {
      "cell_type": "markdown",
      "metadata": {
        "id": "LzVq5bOuyQpF"
      },
      "source": [
        "#### 17. What is the result of the following expression? (★☆☆)\n",
        "```python\n",
        "0 * np.nan\n",
        "np.nan == np.nan\n",
        "np.inf > np.nan\n",
        "np.nan - np.nan\n",
        "np.nan in set([np.nan])\n",
        "0.3 == 3 * 0.1\n",
        "```"
      ],
      "id": "LzVq5bOuyQpF"
    },
    {
      "cell_type": "code",
      "execution_count": 18,
      "metadata": {
        "colab": {
          "base_uri": "https://localhost:8080/"
        },
        "id": "JE71BvvTyQpF",
        "outputId": "d65bccf8-c25e-4ebe-8f1d-4bc922c4e075"
      },
      "outputs": [
        {
          "output_type": "execute_result",
          "data": {
            "text/plain": [
              "False"
            ]
          },
          "metadata": {},
          "execution_count": 18
        }
      ],
      "source": [
        "0 * np.nan\n",
        "np.nan == np.nan\n",
        "np.inf > np.nan\n",
        "np.nan - np.nan\n",
        "np.nan in set([np.nan])\n",
        "0.3 == 3 * 0.1"
      ],
      "id": "JE71BvvTyQpF"
    },
    {
      "cell_type": "markdown",
      "metadata": {
        "id": "hMMf1mPVyQpG"
      },
      "source": [
        "#### 18. Create a 5x5 matrix with values 1,2,3,4 just below the diagonal (★☆☆)"
      ],
      "id": "hMMf1mPVyQpG"
    },
    {
      "cell_type": "code",
      "execution_count": 19,
      "metadata": {
        "colab": {
          "base_uri": "https://localhost:8080/"
        },
        "id": "aoOV8lDYyQpG",
        "outputId": "9c295b5b-ef28-4e19-e05c-625c6e98f84d"
      },
      "outputs": [
        {
          "output_type": "stream",
          "name": "stdout",
          "text": [
            "[[1 0 0 0]\n",
            " [0 2 0 0]\n",
            " [0 0 3 0]\n",
            " [0 0 0 4]]\n"
          ]
        }
      ],
      "source": [
        "x = np.diag([1, 2, 3, 4])\n",
        "print(x)"
      ],
      "id": "aoOV8lDYyQpG"
    },
    {
      "cell_type": "markdown",
      "metadata": {
        "id": "wNQqlNfeyQpH"
      },
      "source": [
        "#### 19. Create a 8x8 matrix and fill it with a checkerboard pattern (★☆☆)"
      ],
      "id": "wNQqlNfeyQpH"
    },
    {
      "cell_type": "code",
      "execution_count": 20,
      "metadata": {
        "colab": {
          "base_uri": "https://localhost:8080/"
        },
        "id": "Db_5qPRiyQpI",
        "outputId": "f1cfc35f-cc02-440e-aeaf-6081d1555416"
      },
      "outputs": [
        {
          "output_type": "stream",
          "name": "stdout",
          "text": [
            "Checkerboard pattern:\n",
            "[[0 1 0 1 0 1 0 1]\n",
            " [1 0 1 0 1 0 1 0]\n",
            " [0 1 0 1 0 1 0 1]\n",
            " [1 0 1 0 1 0 1 0]\n",
            " [0 1 0 1 0 1 0 1]\n",
            " [1 0 1 0 1 0 1 0]\n",
            " [0 1 0 1 0 1 0 1]\n",
            " [1 0 1 0 1 0 1 0]]\n"
          ]
        }
      ],
      "source": [
        "x = np.ones((3,3))\n",
        "print(\"Checkerboard pattern:\")\n",
        "x = np.zeros((8,8),dtype=int)\n",
        "x[1::2,::2] = 1\n",
        "x[::2,1::2] = 1\n",
        "print(x)"
      ],
      "id": "Db_5qPRiyQpI"
    },
    {
      "cell_type": "markdown",
      "metadata": {
        "id": "xHkl0oRyyQpI"
      },
      "source": [
        "#### 20. Consider a (6,7,8) shape array, what is the index (x,y,z) of the 100th element? (★☆☆)"
      ],
      "id": "xHkl0oRyyQpI"
    },
    {
      "cell_type": "code",
      "execution_count": 21,
      "metadata": {
        "colab": {
          "base_uri": "https://localhost:8080/"
        },
        "id": "3mVoMlGxyQpJ",
        "outputId": "77728825-5b29-4c27-d33e-f7b8601eefc9"
      },
      "outputs": [
        {
          "output_type": "stream",
          "name": "stdout",
          "text": [
            "(1, 5, 4)\n"
          ]
        }
      ],
      "source": [
        "print (np.unravel_index(100, (6,7,8)))"
      ],
      "id": "3mVoMlGxyQpJ"
    },
    {
      "cell_type": "markdown",
      "metadata": {
        "id": "fF5nWRqyyQpJ"
      },
      "source": [
        "#### 21. Create a checkerboard 8x8 matrix using the tile function (★☆☆)"
      ],
      "id": "fF5nWRqyyQpJ"
    },
    {
      "cell_type": "code",
      "execution_count": 22,
      "metadata": {
        "colab": {
          "base_uri": "https://localhost:8080/"
        },
        "id": "vWkErfFayQpK",
        "outputId": "ade4b77a-44d2-41fd-87c3-630f51347ec3"
      },
      "outputs": [
        {
          "output_type": "stream",
          "name": "stdout",
          "text": [
            "[[0 1 0 1 0 1 0 1]\n",
            " [1 0 1 0 1 0 1 0]\n",
            " [0 1 0 1 0 1 0 1]\n",
            " [1 0 1 0 1 0 1 0]\n",
            " [0 1 0 1 0 1 0 1]\n",
            " [1 0 1 0 1 0 1 0]\n",
            " [0 1 0 1 0 1 0 1]\n",
            " [1 0 1 0 1 0 1 0]]\n"
          ]
        }
      ],
      "source": [
        "array= np.array([[0,1], [1,0]])\n",
        "j = np.tile(array,(4,4))\n",
        "print (j)"
      ],
      "id": "vWkErfFayQpK"
    },
    {
      "cell_type": "markdown",
      "metadata": {
        "id": "zD4lrZ-KyQpK"
      },
      "source": [
        "#### 22. Normalize a 5x5 random matrix (★☆☆)"
      ],
      "id": "zD4lrZ-KyQpK"
    },
    {
      "cell_type": "code",
      "execution_count": 23,
      "metadata": {
        "colab": {
          "base_uri": "https://localhost:8080/"
        },
        "id": "1k4Q-lWWyQpL",
        "outputId": "5f3a05d3-1bf3-4a4d-d999-a8e866dc3be4"
      },
      "outputs": [
        {
          "output_type": "stream",
          "name": "stdout",
          "text": [
            "[[0.88855775 0.24669883 0.24274626 0.18411976 0.16834365]\n",
            " [0.19018499 0.5764244  0.91163058 0.0336272  0.54513249]\n",
            " [0.6799909  0.         0.12422853 0.45669265 0.26735582]\n",
            " [0.16563213 0.0109051  0.91765064 0.09480414 0.9787311 ]\n",
            " [0.88495378 1.         0.04575836 0.99542421 0.92434615]]\n"
          ]
        }
      ],
      "source": [
        "Z = np.random.random((5,5))\n",
        "Zmax, Zmin = Z.max(), Z.min()\n",
        "Z= (Z-Zmin)/(Zmax-Zmin)\n",
        "print (Z)"
      ],
      "id": "1k4Q-lWWyQpL"
    },
    {
      "cell_type": "markdown",
      "metadata": {
        "id": "VUadyBe1yQpL"
      },
      "source": [
        "#### 23. Create a custom dtype that describes a color as four unsigned bytes (RGBA) (★☆☆)"
      ],
      "id": "VUadyBe1yQpL"
    },
    {
      "cell_type": "code",
      "execution_count": 23,
      "metadata": {
        "collapsed": true,
        "id": "7-MXALsXyQpM"
      },
      "outputs": [],
      "source": [
        ""
      ],
      "id": "7-MXALsXyQpM"
    },
    {
      "cell_type": "markdown",
      "metadata": {
        "id": "PTaDIux7yQpM"
      },
      "source": [
        "#### 24. Multiply a 5x3 matrix by a 3x2 matrix (real matrix product) (★☆☆)"
      ],
      "id": "PTaDIux7yQpM"
    },
    {
      "cell_type": "code",
      "execution_count": 24,
      "metadata": {
        "colab": {
          "base_uri": "https://localhost:8080/"
        },
        "id": "bCO2pl7NyQpN",
        "outputId": "fbd69a0e-45d6-4f0e-f6a0-70d51ac68bae"
      },
      "outputs": [
        {
          "output_type": "stream",
          "name": "stdout",
          "text": [
            "[[3. 3.]\n",
            " [3. 3.]\n",
            " [3. 3.]\n",
            " [3. 3.]\n",
            " [3. 3.]]\n"
          ]
        }
      ],
      "source": [
        "x=np.dot(np.ones((5,3)),np.ones((3,2)))\n",
        "print(x)"
      ],
      "id": "bCO2pl7NyQpN"
    },
    {
      "cell_type": "markdown",
      "metadata": {
        "id": "HKTxzf-TyQpN"
      },
      "source": [
        "#### 25. Given a 1D array, negate all elements which are between 3 and 8, in place. (★☆☆)"
      ],
      "id": "HKTxzf-TyQpN"
    },
    {
      "cell_type": "code",
      "execution_count": 24,
      "metadata": {
        "collapsed": true,
        "id": "gTjo_h-zyQpO"
      },
      "outputs": [],
      "source": [
        ""
      ],
      "id": "gTjo_h-zyQpO"
    },
    {
      "cell_type": "markdown",
      "metadata": {
        "id": "woZhF9ykyQpO"
      },
      "source": [
        "#### 26. What is the output of the following script? (★☆☆)\n",
        "```python\n",
        "# Author: Jake VanderPlas\n",
        "\n",
        "print(sum(range(5),-1))\n",
        "from numpy import *\n",
        "print(sum(range(5),-1))\n",
        "```"
      ],
      "id": "woZhF9ykyQpO"
    },
    {
      "cell_type": "code",
      "execution_count": 25,
      "metadata": {
        "colab": {
          "base_uri": "https://localhost:8080/"
        },
        "id": "Va1OCDHWyQpO",
        "outputId": "82a2be41-a4cb-4fd3-dec0-204a0169cd82"
      },
      "outputs": [
        {
          "output_type": "stream",
          "name": "stdout",
          "text": [
            "9\n",
            "10\n"
          ]
        }
      ],
      "source": [
        "print(sum(range(5),-1))\n",
        "from numpy import *\n",
        "print(sum(range(5),-1))"
      ],
      "id": "Va1OCDHWyQpO"
    },
    {
      "cell_type": "markdown",
      "metadata": {
        "id": "JH7nw554yQpP"
      },
      "source": [
        "#### 27. Consider an integer vector Z, which of these expressions are legal? (★☆☆)\n",
        "```python\n",
        "Z**Z\n",
        "2 << Z >> 2\n",
        "Z <- Z\n",
        "1j*Z\n",
        "Z/1/1\n",
        "Z<Z>Z\n",
        "```"
      ],
      "id": "JH7nw554yQpP"
    },
    {
      "cell_type": "code",
      "execution_count": 25,
      "metadata": {
        "id": "brWTcRP-yQpP"
      },
      "outputs": [],
      "source": [
        ""
      ],
      "id": "brWTcRP-yQpP"
    },
    {
      "cell_type": "markdown",
      "metadata": {
        "id": "yeQzoGWnyQpQ"
      },
      "source": [
        "#### 28. What are the result of the following expressions? (★☆☆)\n",
        "```python\n",
        "np.array(0) / np.array(0)\n",
        "np.array(0) // np.array(0)\n",
        "np.array([np.nan]).astype(int).astype(float)\n",
        "```"
      ],
      "id": "yeQzoGWnyQpQ"
    },
    {
      "cell_type": "code",
      "execution_count": 26,
      "metadata": {
        "colab": {
          "base_uri": "https://localhost:8080/"
        },
        "id": "BtaujPSlyQpQ",
        "outputId": "ca47247b-c2c8-4906-d13e-b927c3fc75cf"
      },
      "outputs": [
        {
          "output_type": "stream",
          "name": "stderr",
          "text": [
            "/usr/local/lib/python3.7/dist-packages/ipykernel_launcher.py:1: RuntimeWarning: invalid value encountered in true_divide\n",
            "  \"\"\"Entry point for launching an IPython kernel.\n",
            "/usr/local/lib/python3.7/dist-packages/ipykernel_launcher.py:2: RuntimeWarning: divide by zero encountered in floor_divide\n",
            "  \n"
          ]
        },
        {
          "output_type": "execute_result",
          "data": {
            "text/plain": [
              "array([-9.22337204e+18])"
            ]
          },
          "metadata": {},
          "execution_count": 26
        }
      ],
      "source": [
        "np.array(0) / np.array(0)\n",
        "np.array(0) // np.array(0)\n",
        "np.array([np.nan]).astype(int).astype(float)"
      ],
      "id": "BtaujPSlyQpQ"
    },
    {
      "cell_type": "markdown",
      "metadata": {
        "id": "g2O166BKyQpR"
      },
      "source": [
        "#### 29. How to round away from zero a float array ? (★☆☆)"
      ],
      "id": "g2O166BKyQpR"
    },
    {
      "cell_type": "code",
      "execution_count": 26,
      "metadata": {
        "collapsed": true,
        "id": "bwKe2blvyQpR"
      },
      "outputs": [],
      "source": [
        ""
      ],
      "id": "bwKe2blvyQpR"
    },
    {
      "cell_type": "markdown",
      "metadata": {
        "id": "EUt7_U88yQpR"
      },
      "source": [
        "#### 30. How to find common values between two arrays? (★☆☆)"
      ],
      "id": "EUt7_U88yQpR"
    },
    {
      "cell_type": "code",
      "execution_count": 26,
      "metadata": {
        "collapsed": true,
        "id": "DjUpBD0fyQpS"
      },
      "outputs": [],
      "source": [
        ""
      ],
      "id": "DjUpBD0fyQpS"
    },
    {
      "cell_type": "markdown",
      "metadata": {
        "id": "z93mylNlyQpS"
      },
      "source": [
        "#### 31. How to ignore all numpy warnings (not recommended)? (★☆☆)"
      ],
      "id": "z93mylNlyQpS"
    },
    {
      "cell_type": "code",
      "execution_count": 26,
      "metadata": {
        "collapsed": true,
        "id": "UvtCnP9vyQpT"
      },
      "outputs": [],
      "source": [
        ""
      ],
      "id": "UvtCnP9vyQpT"
    },
    {
      "cell_type": "markdown",
      "metadata": {
        "id": "H0un8GOiyQpT"
      },
      "source": [
        "#### 32. Is the following expressions true? (★☆☆)\n",
        "```python\n",
        "np.sqrt(-1) == np.emath.sqrt(-1)\n",
        "```"
      ],
      "id": "H0un8GOiyQpT"
    },
    {
      "cell_type": "code",
      "execution_count": 27,
      "metadata": {
        "collapsed": true,
        "colab": {
          "base_uri": "https://localhost:8080/"
        },
        "id": "x3L1_DCJyQpT",
        "outputId": "58ed74be-72e7-4bd3-f9b2-43893620106f"
      },
      "outputs": [
        {
          "output_type": "stream",
          "name": "stderr",
          "text": [
            "/usr/local/lib/python3.7/dist-packages/ipykernel_launcher.py:1: RuntimeWarning: invalid value encountered in sqrt\n",
            "  \"\"\"Entry point for launching an IPython kernel.\n"
          ]
        },
        {
          "output_type": "execute_result",
          "data": {
            "text/plain": [
              "False"
            ]
          },
          "metadata": {},
          "execution_count": 27
        }
      ],
      "source": [
        "np.sqrt(-1) == np.emath.sqrt(-1)"
      ],
      "id": "x3L1_DCJyQpT"
    },
    {
      "cell_type": "markdown",
      "metadata": {
        "id": "rdamViw1yQpU"
      },
      "source": [
        "#### 33. How to get the dates of yesterday, today and tomorrow? (★☆☆)"
      ],
      "id": "rdamViw1yQpU"
    },
    {
      "cell_type": "code",
      "execution_count": 27,
      "metadata": {
        "collapsed": true,
        "id": "Lp7w0BfwyQpi"
      },
      "outputs": [],
      "source": [
        ""
      ],
      "id": "Lp7w0BfwyQpi"
    },
    {
      "cell_type": "markdown",
      "metadata": {
        "id": "lRpBsvVkyQpj"
      },
      "source": [
        "#### 34. How to get all the dates corresponding to the month of July 2016? (★★☆)"
      ],
      "id": "lRpBsvVkyQpj"
    },
    {
      "cell_type": "code",
      "execution_count": 27,
      "metadata": {
        "collapsed": true,
        "id": "hzeXMY43yQpj"
      },
      "outputs": [],
      "source": [
        ""
      ],
      "id": "hzeXMY43yQpj"
    },
    {
      "cell_type": "markdown",
      "metadata": {
        "id": "Pcq3FabXyQpj"
      },
      "source": [
        "#### 35. How to compute ((A+B)*(-A/2)) in place (without copy)? (★★☆)"
      ],
      "id": "Pcq3FabXyQpj"
    },
    {
      "cell_type": "code",
      "execution_count": 27,
      "metadata": {
        "collapsed": true,
        "id": "bXZFHs4zyQpk"
      },
      "outputs": [],
      "source": [
        ""
      ],
      "id": "bXZFHs4zyQpk"
    },
    {
      "cell_type": "markdown",
      "metadata": {
        "id": "fOX61N2uyQpk"
      },
      "source": [
        "#### 36. Extract the integer part of a random array of positive numbers using 4 different methods (★★☆)"
      ],
      "id": "fOX61N2uyQpk"
    },
    {
      "cell_type": "code",
      "execution_count": 27,
      "metadata": {
        "collapsed": true,
        "id": "Vxu8R9coyQpl"
      },
      "outputs": [],
      "source": [
        ""
      ],
      "id": "Vxu8R9coyQpl"
    },
    {
      "cell_type": "markdown",
      "metadata": {
        "id": "ZS9w-1cRyQpl"
      },
      "source": [
        "#### 37. Create a 5x5 matrix with row values ranging from 0 to 4 (★★☆)"
      ],
      "id": "ZS9w-1cRyQpl"
    },
    {
      "cell_type": "code",
      "execution_count": 28,
      "metadata": {
        "colab": {
          "base_uri": "https://localhost:8080/"
        },
        "id": "ONEyOOOvyQpl",
        "outputId": "b1378290-4722-4d06-ef46-9e0d649e2ee1"
      },
      "outputs": [
        {
          "output_type": "stream",
          "name": "stdout",
          "text": [
            "[[0. 1. 2. 3. 4.]\n",
            " [0. 1. 2. 3. 4.]\n",
            " [0. 1. 2. 3. 4.]\n",
            " [0. 1. 2. 3. 4.]\n",
            " [0. 1. 2. 3. 4.]]\n"
          ]
        }
      ],
      "source": [
        "x=np.zeros((5,5))\n",
        "x += np.arange(5)\n",
        "print(x)"
      ],
      "id": "ONEyOOOvyQpl"
    },
    {
      "cell_type": "markdown",
      "metadata": {
        "id": "-lUIBwHNyQpm"
      },
      "source": [
        "#### 38. Consider a generator function that generates 10 integers and use it to build an array (★☆☆)"
      ],
      "id": "-lUIBwHNyQpm"
    },
    {
      "cell_type": "code",
      "execution_count": 29,
      "metadata": {
        "colab": {
          "base_uri": "https://localhost:8080/"
        },
        "id": "mq-7SXlEyQpm",
        "outputId": "c46f0d62-8852-4372-a5b0-27ca66511d86"
      },
      "outputs": [
        {
          "output_type": "stream",
          "name": "stdout",
          "text": [
            "[0. 1. 2. 3. 4. 5. 6. 7. 8. 9.]\n"
          ]
        }
      ],
      "source": [
        "def generate(): \n",
        "    for x in range(10):\n",
        "        yield x\n",
        "        \n",
        "Z = np.fromiter(generate(), dtype=float, count=-1)\n",
        "print (Z)\n"
      ],
      "id": "mq-7SXlEyQpm"
    },
    {
      "cell_type": "markdown",
      "metadata": {
        "id": "dD-bz80ZyQpn"
      },
      "source": [
        "#### 39. Create a vector of size 10 with values ranging from 0 to 1, both excluded (★★☆)"
      ],
      "id": "dD-bz80ZyQpn"
    },
    {
      "cell_type": "code",
      "execution_count": 30,
      "metadata": {
        "colab": {
          "base_uri": "https://localhost:8080/"
        },
        "id": "N3NCgB37yQpo",
        "outputId": "cf61e344-5bbd-4842-b558-980948194e5e"
      },
      "outputs": [
        {
          "output_type": "stream",
          "name": "stdout",
          "text": [
            "[0.09090909 0.18181818 0.27272727 0.36363636 0.45454545 0.54545455\n",
            " 0.63636364 0.72727273 0.81818182 0.90909091]\n"
          ]
        }
      ],
      "source": [
        "Z = np.linspace(0,1,12,endpoint=True)[1:-1]\n",
        "print(Z)"
      ],
      "id": "N3NCgB37yQpo"
    },
    {
      "cell_type": "markdown",
      "metadata": {
        "id": "bzVEF1V-yQpo"
      },
      "source": [
        "#### 40. Create a random vector of size 10 and sort it (★★☆)"
      ],
      "id": "bzVEF1V-yQpo"
    },
    {
      "cell_type": "code",
      "execution_count": 31,
      "metadata": {
        "colab": {
          "base_uri": "https://localhost:8080/"
        },
        "id": "vh-1egF_yQpp",
        "outputId": "81bc7b83-f783-4eda-8bb5-b83202b638ba"
      },
      "outputs": [
        {
          "output_type": "stream",
          "name": "stdout",
          "text": [
            "[0.41668441 0.44188712 0.44317386 0.48660047 0.53016387 0.55167795\n",
            " 0.56163412 0.60600076 0.63789575 0.98549305]\n"
          ]
        }
      ],
      "source": [
        "Z = np.random.random(10)\n",
        "Z.sort()\n",
        "print(Z)"
      ],
      "id": "vh-1egF_yQpp"
    },
    {
      "cell_type": "markdown",
      "metadata": {
        "id": "JgF8N8UcyQpp"
      },
      "source": [
        "#### 41. How to sum a small array faster than np.sum? (★★☆)"
      ],
      "id": "JgF8N8UcyQpp"
    },
    {
      "cell_type": "code",
      "execution_count": 31,
      "metadata": {
        "collapsed": true,
        "id": "-wZR1EXzyQpq"
      },
      "outputs": [],
      "source": [
        ""
      ],
      "id": "-wZR1EXzyQpq"
    },
    {
      "cell_type": "markdown",
      "metadata": {
        "id": "Zpl_yEpXyQpq"
      },
      "source": [
        "#### 42. Consider two random array A and B, check if they are equal (★★☆)"
      ],
      "id": "Zpl_yEpXyQpq"
    },
    {
      "cell_type": "code",
      "execution_count": 32,
      "metadata": {
        "colab": {
          "base_uri": "https://localhost:8080/"
        },
        "id": "TO_-X07byQpr",
        "outputId": "71ac33c7-bfe3-4f32-81d8-ba13f5d08f4c"
      },
      "outputs": [
        {
          "output_type": "stream",
          "name": "stdout",
          "text": [
            "False\n"
          ]
        }
      ],
      "source": [
        "A = np.random.randint(0,2,5)\n",
        "B = np.random.randint(0,2,5)\n",
        "equal = np.allclose(A,B)\n",
        "print(equal)"
      ],
      "id": "TO_-X07byQpr"
    },
    {
      "cell_type": "markdown",
      "metadata": {
        "id": "3nCR1WwByQpr"
      },
      "source": [
        "#### 43. Make an array immutable (read-only) (★★☆)"
      ],
      "id": "3nCR1WwByQpr"
    },
    {
      "cell_type": "code",
      "execution_count": 33,
      "metadata": {
        "colab": {
          "base_uri": "https://localhost:8080/",
          "height": 200
        },
        "id": "LCI2VAkryQps",
        "outputId": "185a6db7-2c8e-447a-cd89-742f912e93d4"
      },
      "outputs": [
        {
          "output_type": "error",
          "ename": "ValueError",
          "evalue": "ignored",
          "traceback": [
            "\u001b[0;31m---------------------------------------------------------------------------\u001b[0m",
            "\u001b[0;31mValueError\u001b[0m                                Traceback (most recent call last)",
            "\u001b[0;32m<ipython-input-33-dcc5e7f145b5>\u001b[0m in \u001b[0;36m<module>\u001b[0;34m()\u001b[0m\n\u001b[1;32m      1\u001b[0m \u001b[0mZ\u001b[0m \u001b[0;34m=\u001b[0m \u001b[0mnp\u001b[0m\u001b[0;34m.\u001b[0m\u001b[0mzeros\u001b[0m\u001b[0;34m(\u001b[0m\u001b[0;36m10\u001b[0m\u001b[0;34m)\u001b[0m\u001b[0;34m\u001b[0m\u001b[0;34m\u001b[0m\u001b[0m\n\u001b[1;32m      2\u001b[0m \u001b[0mZ\u001b[0m\u001b[0;34m.\u001b[0m\u001b[0mflags\u001b[0m\u001b[0;34m.\u001b[0m\u001b[0mwriteable\u001b[0m \u001b[0;34m=\u001b[0m \u001b[0;32mFalse\u001b[0m\u001b[0;34m\u001b[0m\u001b[0;34m\u001b[0m\u001b[0m\n\u001b[0;32m----> 3\u001b[0;31m \u001b[0mZ\u001b[0m\u001b[0;34m[\u001b[0m\u001b[0;36m0\u001b[0m\u001b[0;34m]\u001b[0m \u001b[0;34m=\u001b[0m \u001b[0;36m1\u001b[0m\u001b[0;34m\u001b[0m\u001b[0;34m\u001b[0m\u001b[0m\n\u001b[0m",
            "\u001b[0;31mValueError\u001b[0m: assignment destination is read-only"
          ]
        }
      ],
      "source": [
        "Z = np.zeros(10)\n",
        "Z.flags.writeable = False\n",
        "Z[0] = 1"
      ],
      "id": "LCI2VAkryQps"
    },
    {
      "cell_type": "markdown",
      "metadata": {
        "id": "rpBG7eXpyQps"
      },
      "source": [
        "#### 44. Consider a random 10x2 matrix representing cartesian coordinates, convert them to polar coordinates (★★☆)"
      ],
      "id": "rpBG7eXpyQps"
    },
    {
      "cell_type": "code",
      "execution_count": 34,
      "metadata": {
        "colab": {
          "base_uri": "https://localhost:8080/"
        },
        "id": "buOf-oj3yQpt",
        "outputId": "8ddf3a4d-d237-49e4-e8a5-1c65d5e27f27"
      },
      "outputs": [
        {
          "output_type": "stream",
          "name": "stdout",
          "text": [
            "[0.38857673 1.10788894 0.09430504 0.99651223 0.76773592 0.8315529\n",
            " 0.8592354  0.75378087 0.61927721 0.400285  ]\n",
            "[1.46305842 0.78467626 0.52989355 1.01835323 1.23224966 1.40594797\n",
            " 0.67882977 1.18496767 1.14425221 1.53987272]\n"
          ]
        }
      ],
      "source": [
        "Z = np.random.random((10,2))\n",
        "X,Y = Z[:,0], Z[:,1]\n",
        "R = np.sqrt(X**2+Y**2)\n",
        "T = np.arctan2(Y,X)\n",
        "print(R)\n",
        "print(T)"
      ],
      "id": "buOf-oj3yQpt"
    },
    {
      "cell_type": "markdown",
      "metadata": {
        "id": "j_abeH8XyQpt"
      },
      "source": [
        "#### 45. Create random vector of size 10 and replace the maximum value by 0 (★★☆)"
      ],
      "id": "j_abeH8XyQpt"
    },
    {
      "cell_type": "code",
      "execution_count": 35,
      "metadata": {
        "colab": {
          "base_uri": "https://localhost:8080/"
        },
        "id": "DJovFg8xyQpu",
        "outputId": "7d493232-9021-4d44-be32-af944f339007"
      },
      "outputs": [
        {
          "output_type": "stream",
          "name": "stdout",
          "text": [
            "[0.860055   0.15340718 0.17724437 0.17167608 0.6788995  0.74316933\n",
            " 0.         0.26898266 0.53075179 0.44457564]\n"
          ]
        }
      ],
      "source": [
        "Z = np.random.random(10)\n",
        "Z[Z.argmax()] = 0\n",
        "print(Z)"
      ],
      "id": "DJovFg8xyQpu"
    },
    {
      "cell_type": "markdown",
      "metadata": {
        "id": "jt646ycKyQpu"
      },
      "source": [
        "#### 46. Create a structured array with `x` and `y` coordinates covering the [0,1]x[0,1] area (★★☆)"
      ],
      "id": "jt646ycKyQpu"
    },
    {
      "cell_type": "code",
      "execution_count": 36,
      "metadata": {
        "colab": {
          "base_uri": "https://localhost:8080/"
        },
        "id": "j3uDUWecyQpv",
        "outputId": "146407bb-0189-4ac9-f157-a77f6f47ea78"
      },
      "outputs": [
        {
          "output_type": "stream",
          "name": "stdout",
          "text": [
            "[[(0.        , 0.        ) (0.11111111, 0.        )\n",
            "  (0.22222222, 0.        ) (0.33333333, 0.        )\n",
            "  (0.44444444, 0.        ) (0.55555556, 0.        )\n",
            "  (0.66666667, 0.        ) (0.77777778, 0.        )\n",
            "  (0.88888889, 0.        ) (1.        , 0.        )]\n",
            " [(0.        , 0.11111111) (0.11111111, 0.11111111)\n",
            "  (0.22222222, 0.11111111) (0.33333333, 0.11111111)\n",
            "  (0.44444444, 0.11111111) (0.55555556, 0.11111111)\n",
            "  (0.66666667, 0.11111111) (0.77777778, 0.11111111)\n",
            "  (0.88888889, 0.11111111) (1.        , 0.11111111)]\n",
            " [(0.        , 0.22222222) (0.11111111, 0.22222222)\n",
            "  (0.22222222, 0.22222222) (0.33333333, 0.22222222)\n",
            "  (0.44444444, 0.22222222) (0.55555556, 0.22222222)\n",
            "  (0.66666667, 0.22222222) (0.77777778, 0.22222222)\n",
            "  (0.88888889, 0.22222222) (1.        , 0.22222222)]\n",
            " [(0.        , 0.33333333) (0.11111111, 0.33333333)\n",
            "  (0.22222222, 0.33333333) (0.33333333, 0.33333333)\n",
            "  (0.44444444, 0.33333333) (0.55555556, 0.33333333)\n",
            "  (0.66666667, 0.33333333) (0.77777778, 0.33333333)\n",
            "  (0.88888889, 0.33333333) (1.        , 0.33333333)]\n",
            " [(0.        , 0.44444444) (0.11111111, 0.44444444)\n",
            "  (0.22222222, 0.44444444) (0.33333333, 0.44444444)\n",
            "  (0.44444444, 0.44444444) (0.55555556, 0.44444444)\n",
            "  (0.66666667, 0.44444444) (0.77777778, 0.44444444)\n",
            "  (0.88888889, 0.44444444) (1.        , 0.44444444)]\n",
            " [(0.        , 0.55555556) (0.11111111, 0.55555556)\n",
            "  (0.22222222, 0.55555556) (0.33333333, 0.55555556)\n",
            "  (0.44444444, 0.55555556) (0.55555556, 0.55555556)\n",
            "  (0.66666667, 0.55555556) (0.77777778, 0.55555556)\n",
            "  (0.88888889, 0.55555556) (1.        , 0.55555556)]\n",
            " [(0.        , 0.66666667) (0.11111111, 0.66666667)\n",
            "  (0.22222222, 0.66666667) (0.33333333, 0.66666667)\n",
            "  (0.44444444, 0.66666667) (0.55555556, 0.66666667)\n",
            "  (0.66666667, 0.66666667) (0.77777778, 0.66666667)\n",
            "  (0.88888889, 0.66666667) (1.        , 0.66666667)]\n",
            " [(0.        , 0.77777778) (0.11111111, 0.77777778)\n",
            "  (0.22222222, 0.77777778) (0.33333333, 0.77777778)\n",
            "  (0.44444444, 0.77777778) (0.55555556, 0.77777778)\n",
            "  (0.66666667, 0.77777778) (0.77777778, 0.77777778)\n",
            "  (0.88888889, 0.77777778) (1.        , 0.77777778)]\n",
            " [(0.        , 0.88888889) (0.11111111, 0.88888889)\n",
            "  (0.22222222, 0.88888889) (0.33333333, 0.88888889)\n",
            "  (0.44444444, 0.88888889) (0.55555556, 0.88888889)\n",
            "  (0.66666667, 0.88888889) (0.77777778, 0.88888889)\n",
            "  (0.88888889, 0.88888889) (1.        , 0.88888889)]\n",
            " [(0.        , 1.        ) (0.11111111, 1.        )\n",
            "  (0.22222222, 1.        ) (0.33333333, 1.        )\n",
            "  (0.44444444, 1.        ) (0.55555556, 1.        )\n",
            "  (0.66666667, 1.        ) (0.77777778, 1.        )\n",
            "  (0.88888889, 1.        ) (1.        , 1.        )]]\n"
          ]
        }
      ],
      "source": [
        "Z = np.zeros((10,10), [('x',float),('y',float)])\n",
        "Z['x'], Z['y'] = np.meshgrid(np.linspace(0,1,10),\n",
        "                             np.linspace(0,1,10))\n",
        "print(Z)"
      ],
      "id": "j3uDUWecyQpv"
    },
    {
      "cell_type": "markdown",
      "metadata": {
        "id": "hDBzWdKYyQpv"
      },
      "source": [
        "#### 47. Given two arrays, X and Y, construct the Cauchy matrix C (Cij =1/(xi - yj)) (★★☆)"
      ],
      "id": "hDBzWdKYyQpv"
    },
    {
      "cell_type": "code",
      "execution_count": 36,
      "metadata": {
        "collapsed": true,
        "id": "yrGgA8JGyQpw"
      },
      "outputs": [],
      "source": [
        ""
      ],
      "id": "yrGgA8JGyQpw"
    },
    {
      "cell_type": "markdown",
      "metadata": {
        "id": "OdMY5mM4yQpw"
      },
      "source": [
        "#### 48. Print the minimum and maximum representable value for each numpy scalar type (★★☆)"
      ],
      "id": "OdMY5mM4yQpw"
    },
    {
      "cell_type": "code",
      "execution_count": 37,
      "metadata": {
        "collapsed": true,
        "colab": {
          "base_uri": "https://localhost:8080/"
        },
        "id": "lNEownWQyQpw",
        "outputId": "3861a43d-d123-4da4-dd77-a337d840e036"
      },
      "outputs": [
        {
          "output_type": "stream",
          "name": "stdout",
          "text": [
            "-128\n",
            "127\n",
            "-2147483648\n",
            "2147483647\n",
            "-9223372036854775808\n",
            "9223372036854775807\n",
            "-3.4028235e+38\n",
            "3.4028235e+38\n",
            "1.1920929e-07\n",
            "-1.7976931348623157e+308\n",
            "1.7976931348623157e+308\n",
            "2.220446049250313e-16\n"
          ]
        }
      ],
      "source": [
        "for dtype in [np.int8, np.int32, np.int64]:\n",
        "   print(np.iinfo(dtype).min)\n",
        "   print(np.iinfo(dtype).max)\n",
        "for dtype in [np.float32, np.float64]:\n",
        "   print(np.finfo(dtype).min)\n",
        "   print(np.finfo(dtype).max)\n",
        "   print(np.finfo(dtype).eps)\n",
        "   "
      ],
      "id": "lNEownWQyQpw"
    },
    {
      "cell_type": "markdown",
      "metadata": {
        "id": "1tEBrc6lyQpx"
      },
      "source": [
        "#### 49. How to print all the values of an array? (★★☆)"
      ],
      "id": "1tEBrc6lyQpx"
    },
    {
      "cell_type": "code",
      "execution_count": 39,
      "metadata": {
        "collapsed": true,
        "colab": {
          "base_uri": "https://localhost:8080/",
          "height": 363
        },
        "id": "XJ5zwXwTyQpx",
        "outputId": "b819a6ad-62bb-4a8f-8b6e-853ced09ec46"
      },
      "outputs": [
        {
          "output_type": "error",
          "ename": "ValueError",
          "evalue": "ignored",
          "traceback": [
            "\u001b[0;31m---------------------------------------------------------------------------\u001b[0m",
            "\u001b[0;31mValueError\u001b[0m                                Traceback (most recent call last)",
            "\u001b[0;32m<ipython-input-39-32b1162563f9>\u001b[0m in \u001b[0;36m<module>\u001b[0;34m()\u001b[0m\n\u001b[0;32m----> 1\u001b[0;31m \u001b[0mnp\u001b[0m\u001b[0;34m.\u001b[0m\u001b[0mset_printoptions\u001b[0m\u001b[0;34m(\u001b[0m\u001b[0mthreshold\u001b[0m\u001b[0;34m=\u001b[0m\u001b[0mnp\u001b[0m\u001b[0;34m.\u001b[0m\u001b[0mnan\u001b[0m\u001b[0;34m)\u001b[0m\u001b[0;34m\u001b[0m\u001b[0;34m\u001b[0m\u001b[0m\n\u001b[0m\u001b[1;32m      2\u001b[0m \u001b[0mZ\u001b[0m \u001b[0;34m=\u001b[0m \u001b[0mnp\u001b[0m\u001b[0;34m.\u001b[0m\u001b[0mzeros\u001b[0m\u001b[0;34m(\u001b[0m\u001b[0;34m(\u001b[0m\u001b[0;36m25\u001b[0m\u001b[0;34m,\u001b[0m\u001b[0;36m25\u001b[0m\u001b[0;34m)\u001b[0m\u001b[0;34m)\u001b[0m\u001b[0;34m\u001b[0m\u001b[0;34m\u001b[0m\u001b[0m\n\u001b[1;32m      3\u001b[0m \u001b[0mprint\u001b[0m\u001b[0;34m(\u001b[0m\u001b[0mz\u001b[0m\u001b[0;34m)\u001b[0m\u001b[0;34m\u001b[0m\u001b[0;34m\u001b[0m\u001b[0m\n",
            "\u001b[0;32m/usr/local/lib/python3.7/dist-packages/numpy/core/arrayprint.py\u001b[0m in \u001b[0;36mset_printoptions\u001b[0;34m(precision, threshold, edgeitems, linewidth, suppress, nanstr, infstr, formatter, sign, floatmode, legacy)\u001b[0m\n\u001b[1;32m    243\u001b[0m     opt = _make_options_dict(precision, threshold, edgeitems, linewidth,\n\u001b[1;32m    244\u001b[0m                              \u001b[0msuppress\u001b[0m\u001b[0;34m,\u001b[0m \u001b[0mnanstr\u001b[0m\u001b[0;34m,\u001b[0m \u001b[0minfstr\u001b[0m\u001b[0;34m,\u001b[0m \u001b[0msign\u001b[0m\u001b[0;34m,\u001b[0m \u001b[0mformatter\u001b[0m\u001b[0;34m,\u001b[0m\u001b[0;34m\u001b[0m\u001b[0;34m\u001b[0m\u001b[0m\n\u001b[0;32m--> 245\u001b[0;31m                              floatmode, legacy)\n\u001b[0m\u001b[1;32m    246\u001b[0m     \u001b[0;31m# formatter is always reset\u001b[0m\u001b[0;34m\u001b[0m\u001b[0;34m\u001b[0m\u001b[0;34m\u001b[0m\u001b[0m\n\u001b[1;32m    247\u001b[0m     \u001b[0mopt\u001b[0m\u001b[0;34m[\u001b[0m\u001b[0;34m'formatter'\u001b[0m\u001b[0;34m]\u001b[0m \u001b[0;34m=\u001b[0m \u001b[0mformatter\u001b[0m\u001b[0;34m\u001b[0m\u001b[0;34m\u001b[0m\u001b[0m\n",
            "\u001b[0;32m/usr/local/lib/python3.7/dist-packages/numpy/core/arrayprint.py\u001b[0m in \u001b[0;36m_make_options_dict\u001b[0;34m(precision, threshold, edgeitems, linewidth, suppress, nanstr, infstr, sign, formatter, floatmode, legacy)\u001b[0m\n\u001b[1;32m     84\u001b[0m             \u001b[0;32mraise\u001b[0m \u001b[0mTypeError\u001b[0m\u001b[0;34m(\u001b[0m\u001b[0;34m\"threshold must be numeric\"\u001b[0m\u001b[0;34m)\u001b[0m\u001b[0;34m\u001b[0m\u001b[0;34m\u001b[0m\u001b[0m\n\u001b[1;32m     85\u001b[0m         \u001b[0;32mif\u001b[0m \u001b[0mnp\u001b[0m\u001b[0;34m.\u001b[0m\u001b[0misnan\u001b[0m\u001b[0;34m(\u001b[0m\u001b[0mthreshold\u001b[0m\u001b[0;34m)\u001b[0m\u001b[0;34m:\u001b[0m\u001b[0;34m\u001b[0m\u001b[0;34m\u001b[0m\u001b[0m\n\u001b[0;32m---> 86\u001b[0;31m             raise ValueError(\"threshold must be non-NAN, try \"\n\u001b[0m\u001b[1;32m     87\u001b[0m                              \"sys.maxsize for untruncated representation\")\n\u001b[1;32m     88\u001b[0m     \u001b[0;32mreturn\u001b[0m \u001b[0moptions\u001b[0m\u001b[0;34m\u001b[0m\u001b[0;34m\u001b[0m\u001b[0m\n",
            "\u001b[0;31mValueError\u001b[0m: threshold must be non-NAN, try sys.maxsize for untruncated representation"
          ]
        }
      ],
      "source": [
        "np.set_printoptions(threshold=np.nan)\n",
        "Z = np.zeros((25,25))\n",
        "print(z)"
      ],
      "id": "XJ5zwXwTyQpx"
    },
    {
      "cell_type": "markdown",
      "metadata": {
        "id": "wqJwH9PQyQpx"
      },
      "source": [
        "#### 50. How to find the closest value (to a given scalar) in a vector? (★★☆)"
      ],
      "id": "wqJwH9PQyQpx"
    },
    {
      "cell_type": "code",
      "execution_count": 40,
      "metadata": {
        "collapsed": true,
        "colab": {
          "base_uri": "https://localhost:8080/"
        },
        "id": "BcY_dRMgyQpx",
        "outputId": "f64a1702-fdb8-48dc-f635-781dc4337c80"
      },
      "outputs": [
        {
          "output_type": "stream",
          "name": "stdout",
          "text": [
            "99\n"
          ]
        }
      ],
      "source": [
        "Z = np.arange(100)\n",
        "v = np.random.uniform(0,100)\n",
        "index = (np.abs(Z-v)).argmin()\n",
        "print(Z[index])"
      ],
      "id": "BcY_dRMgyQpx"
    },
    {
      "cell_type": "markdown",
      "metadata": {
        "id": "Rb4v3uyeyQpy"
      },
      "source": [
        "#### 51. Create a structured array representing a position (x,y) and a color (r,g,b) (★★☆)"
      ],
      "id": "Rb4v3uyeyQpy"
    },
    {
      "cell_type": "code",
      "execution_count": 41,
      "metadata": {
        "collapsed": true,
        "colab": {
          "base_uri": "https://localhost:8080/"
        },
        "id": "ztLvlpwIyQpy",
        "outputId": "14601d7d-0cc3-4253-ac0c-273494204068"
      },
      "outputs": [
        {
          "output_type": "stream",
          "name": "stdout",
          "text": [
            "[((0., 0.), (0., 0., 0.)) ((0., 0.), (0., 0., 0.))\n",
            " ((0., 0.), (0., 0., 0.)) ((0., 0.), (0., 0., 0.))\n",
            " ((0., 0.), (0., 0., 0.)) ((0., 0.), (0., 0., 0.))\n",
            " ((0., 0.), (0., 0., 0.)) ((0., 0.), (0., 0., 0.))\n",
            " ((0., 0.), (0., 0., 0.)) ((0., 0.), (0., 0., 0.))]\n"
          ]
        },
        {
          "output_type": "stream",
          "name": "stderr",
          "text": [
            "/usr/local/lib/python3.7/dist-packages/ipykernel_launcher.py:6: FutureWarning: Passing (type, 1) or '1type' as a synonym of type is deprecated; in a future version of numpy, it will be understood as (type, (1,)) / '(1,)type'.\n",
            "  \n"
          ]
        }
      ],
      "source": [
        "\n",
        "Z = np.zeros(10, [ ('position', [ ('x', float, 1),\n",
        "                                   ('y', float, 1)]),\n",
        "                    ('color',    [ ('r', float, 1),\n",
        "                                   ('g', float, 1),\n",
        "                                   ('b', float, 1)])])\n",
        "print(Z)"
      ],
      "id": "ztLvlpwIyQpy"
    },
    {
      "cell_type": "markdown",
      "metadata": {
        "id": "hBoR1G-kyQpy"
      },
      "source": [
        "#### 52. Consider a random vector with shape (100,2) representing coordinates, find point by point distances (★★☆)"
      ],
      "id": "hBoR1G-kyQpy"
    },
    {
      "cell_type": "code",
      "execution_count": 42,
      "metadata": {
        "collapsed": true,
        "colab": {
          "base_uri": "https://localhost:8080/"
        },
        "id": "VAXNgo0zyQpy",
        "outputId": "aa6410c3-c5c4-4b95-efeb-9cbdcfd0ad71"
      },
      "outputs": [
        {
          "output_type": "stream",
          "name": "stdout",
          "text": [
            "[[0.         0.52166716 0.54801373 0.93075994 0.81671292 0.57340093\n",
            "  0.10090513 0.17649077 0.54740033 0.6458114 ]\n",
            " [0.52166716 0.         0.35910461 0.41754805 0.42373891 0.08080266\n",
            "  0.48907075 0.34969384 0.35626331 0.35106599]\n",
            " [0.54801373 0.35910461 0.         0.67686373 0.30393898 0.43555506\n",
            "  0.46009069 0.4543427  0.00289648 0.70614461]\n",
            " [0.93075994 0.41754805 0.67686373 0.         0.51991479 0.35739057\n",
            "  0.9058818  0.75472695 0.67415561 0.45026012]\n",
            " [0.81671292 0.42373891 0.30393898 0.51991479 0.         0.4629711\n",
            "  0.74086396 0.68525799 0.30285688 0.74405051]\n",
            " [0.57340093 0.08080266 0.43555506 0.35739057 0.4629711  0.\n",
            "  0.55120901 0.39755852 0.43268264 0.28677776]\n",
            " [0.10090513 0.48907075 0.46009069 0.9058818  0.74086396 0.55120901\n",
            "  0.         0.18155506 0.45976061 0.66852434]\n",
            " [0.17649077 0.34969384 0.4543427  0.75472695 0.68525799 0.39755852\n",
            "  0.18155506 0.         0.45291834 0.48709891]\n",
            " [0.54740033 0.35626331 0.00289648 0.67415561 0.30285688 0.43268264\n",
            "  0.45976061 0.45291834 0.         0.70337806]\n",
            " [0.6458114  0.35106599 0.70614461 0.45026012 0.74405051 0.28677776\n",
            "  0.66852434 0.48709891 0.70337806 0.        ]]\n",
            "[[0.         0.86705978 0.42865764 0.46976073 0.41732019 1.00453635\n",
            "  0.41280378 0.56150402 0.33930467 0.38335768]\n",
            " [0.86705978 0.         0.77343505 0.71527034 0.92144824 0.87219934\n",
            "  0.45928193 0.4267115  0.84050349 0.54188888]\n",
            " [0.42865764 0.77343505 0.         0.07143123 0.15377399 0.58320251\n",
            "  0.39864591 0.34868944 0.11612983 0.27143162]\n",
            " [0.46976073 0.71527034 0.07143123 0.         0.22313646 0.53482189\n",
            "  0.37001954 0.2885981  0.18361857 0.24327781]\n",
            " [0.41732019 0.92144824 0.15377399 0.22313646 0.         0.67046972\n",
            "  0.51909058 0.49984805 0.1007914  0.39803483]\n",
            " [1.00453635 0.87219934 0.58320251 0.53482189 0.67046972 0.\n",
            "  0.79347401 0.59203191 0.69318234 0.70172647]\n",
            " [0.41280378 0.45928193 0.39864591 0.37001954 0.51909058 0.79347401\n",
            "  0.         0.2125816  0.42325832 0.12769502]\n",
            " [0.56150402 0.4267115  0.34868944 0.2885981  0.49984805 0.59203191\n",
            "  0.2125816  0.         0.42787169 0.17815269]\n",
            " [0.33930467 0.84050349 0.11612983 0.18361857 0.1007914  0.69318234\n",
            "  0.42325832 0.42787169 0.         0.3063746 ]\n",
            " [0.38335768 0.54188888 0.27143162 0.24327781 0.39803483 0.70172647\n",
            "  0.12769502 0.17815269 0.3063746  0.        ]]\n"
          ]
        }
      ],
      "source": [
        "Z = np.random.random((10,2))\n",
        "X,Y = np.atleast_2d(Z[:,0]), np.atleast_2d(Z[:,1])\n",
        "D = np.sqrt( (X-X.T)**2 + (Y-Y.T)**2)\n",
        "print(D)\n",
        "\n",
        "# Much faster with scipy\n",
        "import scipy\n",
        "# Thanks Gavin Heverly-Coulson (#issue 1)\n",
        "import scipy.spatial\n",
        "\n",
        "Z = np.random.random((10,2))\n",
        "D = scipy.spatial.distance.cdist(Z,Z)\n",
        "print(D)"
      ],
      "id": "VAXNgo0zyQpy"
    },
    {
      "cell_type": "markdown",
      "metadata": {
        "id": "y9LODZ8JyQpz"
      },
      "source": [
        "#### 53. How to convert a float (32 bits) array into an integer (32 bits) in place?"
      ],
      "id": "y9LODZ8JyQpz"
    },
    {
      "cell_type": "code",
      "execution_count": null,
      "metadata": {
        "collapsed": true,
        "id": "0pXFPZj6yQpz"
      },
      "outputs": [],
      "source": [
        ""
      ],
      "id": "0pXFPZj6yQpz"
    },
    {
      "cell_type": "markdown",
      "metadata": {
        "id": "251WNO0oyQpz"
      },
      "source": [
        "#### 54. How to read the following file? (★★☆)\n",
        "```\n",
        "1, 2, 3, 4, 5\n",
        "6,  ,  , 7, 8\n",
        " ,  , 9,10,11\n",
        "```"
      ],
      "id": "251WNO0oyQpz"
    },
    {
      "cell_type": "code",
      "execution_count": null,
      "metadata": {
        "collapsed": true,
        "id": "1qETZW8hyQp0"
      },
      "outputs": [],
      "source": [
        ""
      ],
      "id": "1qETZW8hyQp0"
    },
    {
      "cell_type": "markdown",
      "metadata": {
        "id": "TImI16T0yQp0"
      },
      "source": [
        "#### 55. What is the equivalent of enumerate for numpy arrays? (★★☆)"
      ],
      "id": "TImI16T0yQp0"
    },
    {
      "cell_type": "code",
      "execution_count": null,
      "metadata": {
        "collapsed": true,
        "id": "-hdpotlfyQp0"
      },
      "outputs": [],
      "source": [
        ""
      ],
      "id": "-hdpotlfyQp0"
    },
    {
      "cell_type": "markdown",
      "metadata": {
        "id": "sU7NbndeyQp0"
      },
      "source": [
        "#### 56. Generate a generic 2D Gaussian-like array (★★☆)"
      ],
      "id": "sU7NbndeyQp0"
    },
    {
      "cell_type": "code",
      "execution_count": null,
      "metadata": {
        "collapsed": true,
        "id": "C6HLQXpiyQp1"
      },
      "outputs": [],
      "source": [
        ""
      ],
      "id": "C6HLQXpiyQp1"
    },
    {
      "cell_type": "markdown",
      "metadata": {
        "id": "KtSPSk-myQp1"
      },
      "source": [
        "#### 57. How to randomly place p elements in a 2D array? (★★☆)"
      ],
      "id": "KtSPSk-myQp1"
    },
    {
      "cell_type": "code",
      "execution_count": null,
      "metadata": {
        "collapsed": true,
        "id": "A4olcFwTyQp1"
      },
      "outputs": [],
      "source": [
        ""
      ],
      "id": "A4olcFwTyQp1"
    },
    {
      "cell_type": "markdown",
      "metadata": {
        "id": "ujZgzbShyQp1"
      },
      "source": [
        "#### 58. Subtract the mean of each row of a matrix (★★☆)"
      ],
      "id": "ujZgzbShyQp1"
    },
    {
      "cell_type": "code",
      "execution_count": null,
      "metadata": {
        "collapsed": true,
        "id": "jHLDjOOUyQp2"
      },
      "outputs": [],
      "source": [
        ""
      ],
      "id": "jHLDjOOUyQp2"
    },
    {
      "cell_type": "markdown",
      "metadata": {
        "id": "o-6mFjC-yQp2"
      },
      "source": [
        "#### 59. How to sort an array by the nth column? (★★☆)"
      ],
      "id": "o-6mFjC-yQp2"
    },
    {
      "cell_type": "code",
      "execution_count": null,
      "metadata": {
        "collapsed": true,
        "id": "1eW3FatiyQp2"
      },
      "outputs": [],
      "source": [
        ""
      ],
      "id": "1eW3FatiyQp2"
    },
    {
      "cell_type": "markdown",
      "metadata": {
        "id": "nYpws2AQyQp3"
      },
      "source": [
        "#### 60. How to tell if a given 2D array has null columns? (★★☆)"
      ],
      "id": "nYpws2AQyQp3"
    },
    {
      "cell_type": "code",
      "execution_count": null,
      "metadata": {
        "collapsed": true,
        "id": "FFI2swSVyQp3"
      },
      "outputs": [],
      "source": [
        ""
      ],
      "id": "FFI2swSVyQp3"
    },
    {
      "cell_type": "markdown",
      "metadata": {
        "id": "EhD-9kFcyQp3"
      },
      "source": [
        "#### 61. Find the nearest value from a given value in an array (★★☆)"
      ],
      "id": "EhD-9kFcyQp3"
    },
    {
      "cell_type": "code",
      "execution_count": null,
      "metadata": {
        "collapsed": true,
        "id": "Zg4HLDI5yQp3"
      },
      "outputs": [],
      "source": [
        ""
      ],
      "id": "Zg4HLDI5yQp3"
    },
    {
      "cell_type": "markdown",
      "metadata": {
        "id": "CmtJMrPayQp4"
      },
      "source": [
        "#### 62. Considering two arrays with shape (1,3) and (3,1), how to compute their sum using an iterator? (★★☆)"
      ],
      "id": "CmtJMrPayQp4"
    },
    {
      "cell_type": "code",
      "execution_count": null,
      "metadata": {
        "collapsed": true,
        "id": "m6COFYcCyQp4"
      },
      "outputs": [],
      "source": [
        ""
      ],
      "id": "m6COFYcCyQp4"
    },
    {
      "cell_type": "markdown",
      "metadata": {
        "id": "_BjACZcVyQp4"
      },
      "source": [
        "#### 63. Create an array class that has a name attribute (★★☆)"
      ],
      "id": "_BjACZcVyQp4"
    },
    {
      "cell_type": "code",
      "execution_count": null,
      "metadata": {
        "collapsed": true,
        "id": "1WfZA89syQp4"
      },
      "outputs": [],
      "source": [
        ""
      ],
      "id": "1WfZA89syQp4"
    },
    {
      "cell_type": "markdown",
      "metadata": {
        "id": "CCr1JThgyQp5"
      },
      "source": [
        "#### 64. Consider a given vector, how to add 1 to each element indexed by a second vector (be careful with repeated indices)? (★★★)"
      ],
      "id": "CCr1JThgyQp5"
    },
    {
      "cell_type": "code",
      "execution_count": null,
      "metadata": {
        "collapsed": true,
        "id": "NKXNcBLvyQp5"
      },
      "outputs": [],
      "source": [
        ""
      ],
      "id": "NKXNcBLvyQp5"
    },
    {
      "cell_type": "markdown",
      "metadata": {
        "id": "BBTPGzXYyQp5"
      },
      "source": [
        "#### 65. How to accumulate elements of a vector (X) to an array (F) based on an index list (I)? (★★★)"
      ],
      "id": "BBTPGzXYyQp5"
    },
    {
      "cell_type": "code",
      "execution_count": null,
      "metadata": {
        "collapsed": true,
        "id": "QwB05R2tyQp6"
      },
      "outputs": [],
      "source": [
        ""
      ],
      "id": "QwB05R2tyQp6"
    },
    {
      "cell_type": "markdown",
      "metadata": {
        "id": "0gyXJ6khyQp6"
      },
      "source": [
        "#### 66. Considering a (w,h,3) image of (dtype=ubyte), compute the number of unique colors (★★☆)"
      ],
      "id": "0gyXJ6khyQp6"
    },
    {
      "cell_type": "code",
      "execution_count": null,
      "metadata": {
        "collapsed": true,
        "id": "3GHK_eHUyQp6"
      },
      "outputs": [],
      "source": [
        ""
      ],
      "id": "3GHK_eHUyQp6"
    },
    {
      "cell_type": "markdown",
      "metadata": {
        "id": "CLjzy8SLyQp6"
      },
      "source": [
        "#### 67. Considering a four dimensions array, how to get sum over the last two axis at once? (★★★)"
      ],
      "id": "CLjzy8SLyQp6"
    },
    {
      "cell_type": "code",
      "execution_count": null,
      "metadata": {
        "collapsed": true,
        "id": "zGdUV4nSyQp7"
      },
      "outputs": [],
      "source": [
        ""
      ],
      "id": "zGdUV4nSyQp7"
    },
    {
      "cell_type": "markdown",
      "metadata": {
        "id": "rJVPnAIJyQp7"
      },
      "source": [
        "#### 68. Considering a one-dimensional vector D, how to compute means of subsets of D using a vector S of same size describing subset  indices? (★★★)"
      ],
      "id": "rJVPnAIJyQp7"
    },
    {
      "cell_type": "code",
      "execution_count": null,
      "metadata": {
        "collapsed": true,
        "id": "_qRaYv0ZyQp7"
      },
      "outputs": [],
      "source": [
        ""
      ],
      "id": "_qRaYv0ZyQp7"
    },
    {
      "cell_type": "markdown",
      "metadata": {
        "id": "gLBMG7rRyQp7"
      },
      "source": [
        "#### 69. How to get the diagonal of a dot product? (★★★)"
      ],
      "id": "gLBMG7rRyQp7"
    },
    {
      "cell_type": "code",
      "execution_count": null,
      "metadata": {
        "collapsed": true,
        "id": "ngWbDeV4yQp8"
      },
      "outputs": [],
      "source": [
        ""
      ],
      "id": "ngWbDeV4yQp8"
    },
    {
      "cell_type": "markdown",
      "metadata": {
        "id": "QoKzozmgyQp8"
      },
      "source": [
        "#### 70. Consider the vector [1, 2, 3, 4, 5], how to build a new vector with 3 consecutive zeros interleaved between each value? (★★★)"
      ],
      "id": "QoKzozmgyQp8"
    },
    {
      "cell_type": "code",
      "execution_count": null,
      "metadata": {
        "collapsed": true,
        "id": "CUNLP0hfyQp8"
      },
      "outputs": [],
      "source": [
        ""
      ],
      "id": "CUNLP0hfyQp8"
    },
    {
      "cell_type": "markdown",
      "metadata": {
        "id": "OmlRSh0gyQp8"
      },
      "source": [
        "#### 71. Consider an array of dimension (5,5,3), how to mulitply it by an array with dimensions (5,5)? (★★★)"
      ],
      "id": "OmlRSh0gyQp8"
    },
    {
      "cell_type": "code",
      "execution_count": null,
      "metadata": {
        "collapsed": true,
        "id": "yhbwPKYryQp9"
      },
      "outputs": [],
      "source": [
        ""
      ],
      "id": "yhbwPKYryQp9"
    },
    {
      "cell_type": "markdown",
      "metadata": {
        "id": "oT-D5HXsyQp9"
      },
      "source": [
        "#### 72. How to swap two rows of an array? (★★★)"
      ],
      "id": "oT-D5HXsyQp9"
    },
    {
      "cell_type": "code",
      "execution_count": null,
      "metadata": {
        "collapsed": true,
        "id": "PaZjAykcyQp9"
      },
      "outputs": [],
      "source": [
        ""
      ],
      "id": "PaZjAykcyQp9"
    },
    {
      "cell_type": "markdown",
      "metadata": {
        "id": "p2Iyq95KyQp-"
      },
      "source": [
        "#### 73. Consider a set of 10 triplets describing 10 triangles (with shared vertices), find the set of unique line segments composing all the  triangles (★★★)"
      ],
      "id": "p2Iyq95KyQp-"
    },
    {
      "cell_type": "code",
      "execution_count": null,
      "metadata": {
        "collapsed": true,
        "id": "4EtBwDzKyQp-"
      },
      "outputs": [],
      "source": [
        ""
      ],
      "id": "4EtBwDzKyQp-"
    },
    {
      "cell_type": "markdown",
      "metadata": {
        "id": "1tY7etkayQp-"
      },
      "source": [
        "#### 74. Given a sorted array C that corresponds to a bincount, how to produce an array A such that np.bincount(A) == C? (★★★)"
      ],
      "id": "1tY7etkayQp-"
    },
    {
      "cell_type": "code",
      "execution_count": null,
      "metadata": {
        "collapsed": true,
        "id": "kDcmBkH5yQp_"
      },
      "outputs": [],
      "source": [
        ""
      ],
      "id": "kDcmBkH5yQp_"
    },
    {
      "cell_type": "markdown",
      "metadata": {
        "id": "EelejA3TyQp_"
      },
      "source": [
        "#### 75. How to compute averages using a sliding window over an array? (★★★)"
      ],
      "id": "EelejA3TyQp_"
    },
    {
      "cell_type": "code",
      "execution_count": null,
      "metadata": {
        "collapsed": true,
        "id": "sbOH1sZ2yQp_"
      },
      "outputs": [],
      "source": [
        ""
      ],
      "id": "sbOH1sZ2yQp_"
    },
    {
      "cell_type": "markdown",
      "metadata": {
        "id": "1CXXk1ZfyQp_"
      },
      "source": [
        "#### 76. Consider a one-dimensional array Z, build a two-dimensional array whose first row is (Z[0],Z[1],Z[2]) and each subsequent row is  shifted by 1 (last row should be (Z[-3],Z[-2],Z[-1]) (★★★)"
      ],
      "id": "1CXXk1ZfyQp_"
    },
    {
      "cell_type": "code",
      "execution_count": null,
      "metadata": {
        "collapsed": true,
        "id": "A95n1vE2yQqA"
      },
      "outputs": [],
      "source": [
        ""
      ],
      "id": "A95n1vE2yQqA"
    },
    {
      "cell_type": "markdown",
      "metadata": {
        "id": "wLJOCAcVyQqA"
      },
      "source": [
        "#### 77. How to negate a boolean, or to change the sign of a float inplace? (★★★)"
      ],
      "id": "wLJOCAcVyQqA"
    },
    {
      "cell_type": "code",
      "execution_count": null,
      "metadata": {
        "collapsed": true,
        "id": "jbWCv6GRyQqB"
      },
      "outputs": [],
      "source": [
        ""
      ],
      "id": "jbWCv6GRyQqB"
    },
    {
      "cell_type": "markdown",
      "metadata": {
        "id": "QzzvATAwyQqB"
      },
      "source": [
        "#### 78. Consider 2 sets of points P0,P1 describing lines (2d) and a point p, how to compute distance from p to each line i (P0[i],P1[i])? (★★★)"
      ],
      "id": "QzzvATAwyQqB"
    },
    {
      "cell_type": "code",
      "execution_count": null,
      "metadata": {
        "collapsed": true,
        "id": "9kKg3mbGyQqC"
      },
      "outputs": [],
      "source": [
        ""
      ],
      "id": "9kKg3mbGyQqC"
    },
    {
      "cell_type": "markdown",
      "metadata": {
        "id": "hLYkW2qfyQqC"
      },
      "source": [
        "#### 79. Consider 2 sets of points P0,P1 describing lines (2d) and a set of points P, how to compute distance from each point j (P[j]) to each line i (P0[i],P1[i])? (★★★)"
      ],
      "id": "hLYkW2qfyQqC"
    },
    {
      "cell_type": "code",
      "execution_count": null,
      "metadata": {
        "collapsed": true,
        "id": "Nz8pCHQKyQqD"
      },
      "outputs": [],
      "source": [
        ""
      ],
      "id": "Nz8pCHQKyQqD"
    },
    {
      "cell_type": "markdown",
      "metadata": {
        "id": "AKvTGvpgyQqD"
      },
      "source": [
        "#### 80. Consider an arbitrary array, write a function that extract a subpart with a fixed shape and centered on a given element (pad with a `fill` value when necessary) (★★★)"
      ],
      "id": "AKvTGvpgyQqD"
    },
    {
      "cell_type": "code",
      "execution_count": null,
      "metadata": {
        "collapsed": true,
        "id": "cfcKwEueyQqD"
      },
      "outputs": [],
      "source": [
        ""
      ],
      "id": "cfcKwEueyQqD"
    },
    {
      "cell_type": "markdown",
      "metadata": {
        "id": "Dx2kTEPbyQqE"
      },
      "source": [
        "#### 81. Consider an array Z = [1,2,3,4,5,6,7,8,9,10,11,12,13,14], how to generate an array R = [[1,2,3,4], [2,3,4,5], [3,4,5,6], ..., [11,12,13,14]]? (★★★)"
      ],
      "id": "Dx2kTEPbyQqE"
    },
    {
      "cell_type": "code",
      "execution_count": null,
      "metadata": {
        "collapsed": true,
        "id": "qKVlJ1cByQqE"
      },
      "outputs": [],
      "source": [
        ""
      ],
      "id": "qKVlJ1cByQqE"
    },
    {
      "cell_type": "markdown",
      "metadata": {
        "id": "YOTzw2CjyQqE"
      },
      "source": [
        "#### 82. Compute a matrix rank (★★★)"
      ],
      "id": "YOTzw2CjyQqE"
    },
    {
      "cell_type": "code",
      "execution_count": null,
      "metadata": {
        "collapsed": true,
        "id": "Fq5Se2KUyQqF"
      },
      "outputs": [],
      "source": [
        ""
      ],
      "id": "Fq5Se2KUyQqF"
    },
    {
      "cell_type": "markdown",
      "metadata": {
        "id": "iaRi0x3ryQqF"
      },
      "source": [
        "#### 83. How to find the most frequent value in an array?"
      ],
      "id": "iaRi0x3ryQqF"
    },
    {
      "cell_type": "code",
      "execution_count": null,
      "metadata": {
        "collapsed": true,
        "id": "L5CbErCgyQqF"
      },
      "outputs": [],
      "source": [
        ""
      ],
      "id": "L5CbErCgyQqF"
    },
    {
      "cell_type": "markdown",
      "metadata": {
        "id": "2IELewr6yQqG"
      },
      "source": [
        "#### 84. Extract all the contiguous 3x3 blocks from a random 10x10 matrix (★★★)"
      ],
      "id": "2IELewr6yQqG"
    },
    {
      "cell_type": "code",
      "execution_count": null,
      "metadata": {
        "collapsed": true,
        "id": "ZLv48ZXnyQqG"
      },
      "outputs": [],
      "source": [
        ""
      ],
      "id": "ZLv48ZXnyQqG"
    },
    {
      "cell_type": "markdown",
      "metadata": {
        "id": "XoZIHpxLyQqH"
      },
      "source": [
        "#### 85. Create a 2D array subclass such that Z[i,j] == Z[j,i] (★★★)"
      ],
      "id": "XoZIHpxLyQqH"
    },
    {
      "cell_type": "code",
      "execution_count": null,
      "metadata": {
        "collapsed": true,
        "id": "QslhYz71yQqH"
      },
      "outputs": [],
      "source": [
        ""
      ],
      "id": "QslhYz71yQqH"
    },
    {
      "cell_type": "markdown",
      "metadata": {
        "id": "pnni14aDyQqH"
      },
      "source": [
        "#### 86. Consider a set of p matrices wich shape (n,n) and a set of p vectors with shape (n,1). How to compute the sum of of the p matrix products at once? (result has shape (n,1)) (★★★)"
      ],
      "id": "pnni14aDyQqH"
    },
    {
      "cell_type": "code",
      "execution_count": null,
      "metadata": {
        "collapsed": true,
        "id": "kQmMjV_JyQqI"
      },
      "outputs": [],
      "source": [
        ""
      ],
      "id": "kQmMjV_JyQqI"
    },
    {
      "cell_type": "markdown",
      "metadata": {
        "id": "XbKPrlJ0yQqI"
      },
      "source": [
        "#### 87. Consider a 16x16 array, how to get the block-sum (block size is 4x4)? (★★★)"
      ],
      "id": "XbKPrlJ0yQqI"
    },
    {
      "cell_type": "code",
      "execution_count": null,
      "metadata": {
        "collapsed": true,
        "id": "MRy2fErQyQqJ"
      },
      "outputs": [],
      "source": [
        ""
      ],
      "id": "MRy2fErQyQqJ"
    },
    {
      "cell_type": "markdown",
      "metadata": {
        "id": "nxZFjn1-yQqJ"
      },
      "source": [
        "#### 88. How to implement the Game of Life using numpy arrays? (★★★)"
      ],
      "id": "nxZFjn1-yQqJ"
    },
    {
      "cell_type": "code",
      "execution_count": null,
      "metadata": {
        "collapsed": true,
        "id": "mVMaFklyyQqK"
      },
      "outputs": [],
      "source": [
        ""
      ],
      "id": "mVMaFklyyQqK"
    },
    {
      "cell_type": "markdown",
      "metadata": {
        "id": "fidww0sXyQqK"
      },
      "source": [
        "#### 89. How to get the n largest values of an array (★★★)"
      ],
      "id": "fidww0sXyQqK"
    },
    {
      "cell_type": "code",
      "execution_count": null,
      "metadata": {
        "collapsed": true,
        "id": "LWuOzkq_yQqL"
      },
      "outputs": [],
      "source": [
        ""
      ],
      "id": "LWuOzkq_yQqL"
    },
    {
      "cell_type": "markdown",
      "metadata": {
        "id": "HsrxZCApyQqL"
      },
      "source": [
        "#### 90. Given an arbitrary number of vectors, build the cartesian product (every combinations of every item) (★★★)"
      ],
      "id": "HsrxZCApyQqL"
    },
    {
      "cell_type": "code",
      "execution_count": null,
      "metadata": {
        "collapsed": true,
        "id": "pT3_43miyQqL"
      },
      "outputs": [],
      "source": [
        ""
      ],
      "id": "pT3_43miyQqL"
    },
    {
      "cell_type": "markdown",
      "metadata": {
        "id": "wP6mwGFEyQqM"
      },
      "source": [
        "#### 91. How to create a record array from a regular array? (★★★)"
      ],
      "id": "wP6mwGFEyQqM"
    },
    {
      "cell_type": "code",
      "execution_count": null,
      "metadata": {
        "collapsed": true,
        "id": "hFBhN3kMyQqM"
      },
      "outputs": [],
      "source": [
        ""
      ],
      "id": "hFBhN3kMyQqM"
    },
    {
      "cell_type": "markdown",
      "metadata": {
        "id": "Dhdl99XUyQqN"
      },
      "source": [
        "#### 92. Consider a large vector Z, compute Z to the power of 3 using 3 different methods (★★★)"
      ],
      "id": "Dhdl99XUyQqN"
    },
    {
      "cell_type": "code",
      "execution_count": null,
      "metadata": {
        "collapsed": true,
        "id": "3KJ5ocpmyQqN"
      },
      "outputs": [],
      "source": [
        ""
      ],
      "id": "3KJ5ocpmyQqN"
    },
    {
      "cell_type": "markdown",
      "metadata": {
        "id": "1tTUR11EyQqN"
      },
      "source": [
        "#### 93. Consider two arrays A and B of shape (8,3) and (2,2). How to find rows of A that contain elements of each row of B regardless of the order of the elements in B? (★★★)"
      ],
      "id": "1tTUR11EyQqN"
    },
    {
      "cell_type": "code",
      "execution_count": null,
      "metadata": {
        "collapsed": true,
        "id": "cZLWz1FdyQqO"
      },
      "outputs": [],
      "source": [
        ""
      ],
      "id": "cZLWz1FdyQqO"
    },
    {
      "cell_type": "markdown",
      "metadata": {
        "id": "cnsL1MG3yQqO"
      },
      "source": [
        "#### 94. Considering a 10x3 matrix, extract rows with unequal values (e.g. [2,2,3]) (★★★)"
      ],
      "id": "cnsL1MG3yQqO"
    },
    {
      "cell_type": "code",
      "execution_count": null,
      "metadata": {
        "collapsed": true,
        "id": "layfbUAjyQqP"
      },
      "outputs": [],
      "source": [
        ""
      ],
      "id": "layfbUAjyQqP"
    },
    {
      "cell_type": "markdown",
      "metadata": {
        "id": "Tnguk8hdyQqP"
      },
      "source": [
        "#### 95. Convert a vector of ints into a matrix binary representation (★★★)"
      ],
      "id": "Tnguk8hdyQqP"
    },
    {
      "cell_type": "code",
      "execution_count": null,
      "metadata": {
        "collapsed": true,
        "id": "T09HnVYEyQqP"
      },
      "outputs": [],
      "source": [
        ""
      ],
      "id": "T09HnVYEyQqP"
    },
    {
      "cell_type": "markdown",
      "metadata": {
        "id": "N2VoiQuPyQqQ"
      },
      "source": [
        "#### 96. Given a two dimensional array, how to extract unique rows? (★★★)"
      ],
      "id": "N2VoiQuPyQqQ"
    },
    {
      "cell_type": "code",
      "execution_count": null,
      "metadata": {
        "collapsed": true,
        "id": "FeivG-i4yQqQ"
      },
      "outputs": [],
      "source": [
        ""
      ],
      "id": "FeivG-i4yQqQ"
    },
    {
      "cell_type": "markdown",
      "metadata": {
        "id": "AmXR8m7zyQqR"
      },
      "source": [
        "#### 97. Considering 2 vectors A & B, write the einsum equivalent of inner, outer, sum, and mul function (★★★)"
      ],
      "id": "AmXR8m7zyQqR"
    },
    {
      "cell_type": "code",
      "execution_count": null,
      "metadata": {
        "collapsed": true,
        "id": "K_XzBkcbyQqR"
      },
      "outputs": [],
      "source": [
        ""
      ],
      "id": "K_XzBkcbyQqR"
    },
    {
      "cell_type": "markdown",
      "metadata": {
        "id": "pxUVN-BhyQqR"
      },
      "source": [
        "#### 98. Considering a path described by two vectors (X,Y), how to sample it using equidistant samples (★★★)?"
      ],
      "id": "pxUVN-BhyQqR"
    },
    {
      "cell_type": "code",
      "execution_count": null,
      "metadata": {
        "collapsed": true,
        "id": "-oFb4qzsyQqS"
      },
      "outputs": [],
      "source": [
        ""
      ],
      "id": "-oFb4qzsyQqS"
    },
    {
      "cell_type": "markdown",
      "metadata": {
        "id": "fh-XxZ9iyQqS"
      },
      "source": [
        "#### 99. Given an integer n and a 2D array X, select from X the rows which can be interpreted as draws from a multinomial distribution with n degrees, i.e., the rows which only contain integers and which sum to n. (★★★)"
      ],
      "id": "fh-XxZ9iyQqS"
    },
    {
      "cell_type": "code",
      "execution_count": null,
      "metadata": {
        "collapsed": true,
        "id": "QEbaMQ2YyQqT"
      },
      "outputs": [],
      "source": [
        ""
      ],
      "id": "QEbaMQ2YyQqT"
    },
    {
      "cell_type": "markdown",
      "metadata": {
        "id": "68WGoZuHyQqT"
      },
      "source": [
        "#### 100. Compute bootstrapped 95% confidence intervals for the mean of a 1D array X (i.e., resample the elements of an array with replacement N times, compute the mean of each sample, and then compute percentiles over the means). (★★★)"
      ],
      "id": "68WGoZuHyQqT"
    },
    {
      "cell_type": "code",
      "execution_count": null,
      "metadata": {
        "collapsed": true,
        "id": "VsMo1D0xyQqT"
      },
      "outputs": [],
      "source": [
        ""
      ],
      "id": "VsMo1D0xyQqT"
    }
  ],
  "metadata": {
    "kernelspec": {
      "display_name": "Python 3",
      "language": "python",
      "name": "python3"
    },
    "language_info": {
      "codemirror_mode": {
        "name": "ipython",
        "version": 3
      },
      "file_extension": ".py",
      "mimetype": "text/x-python",
      "name": "python",
      "nbconvert_exporter": "python",
      "pygments_lexer": "ipython3",
      "version": "3.6.3"
    },
    "colab": {
      "name": "numpy_assingment.ipynb",
      "provenance": [],
      "collapsed_sections": [
        "y9LODZ8JyQpz",
        "251WNO0oyQpz",
        "TImI16T0yQp0",
        "sU7NbndeyQp0",
        "KtSPSk-myQp1",
        "ujZgzbShyQp1",
        "o-6mFjC-yQp2",
        "nYpws2AQyQp3",
        "EhD-9kFcyQp3",
        "CmtJMrPayQp4",
        "_BjACZcVyQp4",
        "CCr1JThgyQp5",
        "BBTPGzXYyQp5",
        "0gyXJ6khyQp6",
        "CLjzy8SLyQp6",
        "rJVPnAIJyQp7",
        "gLBMG7rRyQp7",
        "QoKzozmgyQp8",
        "OmlRSh0gyQp8",
        "oT-D5HXsyQp9",
        "p2Iyq95KyQp-",
        "1tY7etkayQp-",
        "EelejA3TyQp_",
        "1CXXk1ZfyQp_",
        "wLJOCAcVyQqA",
        "QzzvATAwyQqB",
        "hLYkW2qfyQqC",
        "AKvTGvpgyQqD",
        "Dx2kTEPbyQqE",
        "YOTzw2CjyQqE",
        "iaRi0x3ryQqF",
        "2IELewr6yQqG",
        "XoZIHpxLyQqH",
        "pnni14aDyQqH",
        "XbKPrlJ0yQqI",
        "nxZFjn1-yQqJ",
        "fidww0sXyQqK",
        "HsrxZCApyQqL",
        "wP6mwGFEyQqM",
        "Dhdl99XUyQqN",
        "1tTUR11EyQqN",
        "cnsL1MG3yQqO",
        "Tnguk8hdyQqP",
        "N2VoiQuPyQqQ",
        "AmXR8m7zyQqR",
        "pxUVN-BhyQqR",
        "fh-XxZ9iyQqS",
        "68WGoZuHyQqT"
      ]
    }
  },
  "nbformat": 4,
  "nbformat_minor": 5
}