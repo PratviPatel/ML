{
 "cells": [
  {
   "cell_type": "code",
   "execution_count": 2,
   "id": "9ba44662",
   "metadata": {},
   "outputs": [
    {
     "name": "stdout",
     "output_type": "stream",
     "text": [
      "means =  [0.36328234 0.44067083 0.46093794]\n",
      "x array by subtracing the mean :  [[-0.05314644  0.05430235 -0.11997781]\n",
      " [ 0.46437417  0.2138676  -0.16050549]\n",
      " [-0.3603356  -0.17787341 -0.01309867]\n",
      " [-0.08642501  0.5453205  -0.31914381]\n",
      " [ 0.3140877  -0.15787358 -0.21322625]\n",
      " [-0.10778021 -0.17023521  0.46346781]\n",
      " [-0.11413856 -0.38093488  0.48379871]\n",
      " [-0.06404488 -0.43817141  0.2322683 ]\n",
      " [-0.20573387  0.05422212 -0.01405518]\n",
      " [ 0.2131427   0.45737592 -0.33952761]]\n"
     ]
    }
   ],
   "source": [
    "import numpy as np\n",
    "x=np.random.random((10,3))\n",
    "print(\"means = \",x.mean(0))\n",
    "print(\"x array by subtracing the mean : \",(x-x.mean(0)))\n"
   ]
  },
  {
   "cell_type": "code",
   "execution_count": 10,
   "id": "a00dc79e",
   "metadata": {},
   "outputs": [
    {
     "data": {
      "text/plain": [
       "array([[1.31326169, 1.31326169, 1.31326169],\n",
       "       [1.69314718, 1.69314718, 1.69314718],\n",
       "       [2.31326169, 2.31326169, 2.31326169]])"
      ]
     },
     "execution_count": 10,
     "metadata": {},
     "output_type": "execute_result"
    }
   ],
   "source": [
    "m=np.ones((1,3))\n",
    "a=np.arange(3)\n",
    "np.logaddexp(m,a[:,np.newaxis])"
   ]
  },
  {
   "cell_type": "code",
   "execution_count": 14,
   "id": "840c0007",
   "metadata": {},
   "outputs": [
    {
     "name": "stdout",
     "output_type": "stream",
     "text": [
      "Centered Mean :  [-2.22044605e-17  4.44089210e-17  5.55111512e-17]\n"
     ]
    }
   ],
   "source": [
    "centerd=x-x.mean(0)\n",
    "print(\"Centered Mean : \",centerd.mean(0))"
   ]
  }
 ],
 "metadata": {
  "kernelspec": {
   "display_name": "Python 3 (ipykernel)",
   "language": "python",
   "name": "python3"
  },
  "language_info": {
   "codemirror_mode": {
    "name": "ipython",
    "version": 3
   },
   "file_extension": ".py",
   "mimetype": "text/x-python",
   "name": "python",
   "nbconvert_exporter": "python",
   "pygments_lexer": "ipython3",
   "version": "3.9.7"
  }
 },
 "nbformat": 4,
 "nbformat_minor": 5
}
