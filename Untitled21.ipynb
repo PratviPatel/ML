{
 "cells": [
  {
   "cell_type": "code",
   "execution_count": 3,
   "id": "e0a771a4",
   "metadata": {},
   "outputs": [],
   "source": [
    " import pandas as pd"
   ]
  },
  {
   "cell_type": "code",
   "execution_count": 4,
   "id": "a99b7f03",
   "metadata": {},
   "outputs": [],
   "source": [
    "import numpy as np\n"
   ]
  },
  {
   "cell_type": "code",
   "execution_count": 6,
   "id": "09508fa5",
   "metadata": {},
   "outputs": [],
   "source": [
    "read = pd.read_csv(\"C:/Users/Lenovo/Downloads/twtdata.csv\")"
   ]
  },
  {
   "cell_type": "code",
   "execution_count": 7,
   "id": "be1eb8d0",
   "metadata": {},
   "outputs": [
    {
     "data": {
      "text/html": [
       "<div>\n",
       "<style scoped>\n",
       "    .dataframe tbody tr th:only-of-type {\n",
       "        vertical-align: middle;\n",
       "    }\n",
       "\n",
       "    .dataframe tbody tr th {\n",
       "        vertical-align: top;\n",
       "    }\n",
       "\n",
       "    .dataframe thead th {\n",
       "        text-align: right;\n",
       "    }\n",
       "</style>\n",
       "<table border=\"1\" class=\"dataframe\">\n",
       "  <thead>\n",
       "    <tr style=\"text-align: right;\">\n",
       "      <th></th>\n",
       "      <th>text</th>\n",
       "      <th>label</th>\n",
       "    </tr>\n",
       "  </thead>\n",
       "  <tbody>\n",
       "    <tr>\n",
       "      <th>0</th>\n",
       "      <td>Courteney Cox Recreates Classic Friends Scene ...</td>\n",
       "      <td>1</td>\n",
       "    </tr>\n",
       "    <tr>\n",
       "      <th>1</th>\n",
       "      <td>The Jonas Brothers Have Secret Concert Days Af...</td>\n",
       "      <td>1</td>\n",
       "    </tr>\n",
       "    <tr>\n",
       "      <th>2</th>\n",
       "      <td>Ariana Grande Sends Heartfelt Message to Her F...</td>\n",
       "      <td>1</td>\n",
       "    </tr>\n",
       "    <tr>\n",
       "      <th>3</th>\n",
       "      <td>7 of the Biggest Bombshells From Jordyn Woods'...</td>\n",
       "      <td>1</td>\n",
       "    </tr>\n",
       "    <tr>\n",
       "      <th>4</th>\n",
       "      <td>Fyre Festival's Andy King Spills New Details o...</td>\n",
       "      <td>1</td>\n",
       "    </tr>\n",
       "    <tr>\n",
       "      <th>...</th>\n",
       "      <td>...</td>\n",
       "      <td>...</td>\n",
       "    </tr>\n",
       "    <tr>\n",
       "      <th>23994</th>\n",
       "      <td>\"Everytime you open your eyes I fall deeper in...</td>\n",
       "      <td>1</td>\n",
       "    </tr>\n",
       "    <tr>\n",
       "      <th>23995</th>\n",
       "      <td>michaelfaudet:My new book, Smoke &amp;amp; Mirrors...</td>\n",
       "      <td>1</td>\n",
       "    </tr>\n",
       "    <tr>\n",
       "      <th>23996</th>\n",
       "      <td>Twitter Seems Convinced Melania Trump Uses a S...</td>\n",
       "      <td>1</td>\n",
       "    </tr>\n",
       "    <tr>\n",
       "      <th>23997</th>\n",
       "      <td>books-n-quotes: “I am still so naïve; I know p...</td>\n",
       "      <td>1</td>\n",
       "    </tr>\n",
       "    <tr>\n",
       "      <th>23998</th>\n",
       "      <td>jinxproof:Winona RyderTHE FACE (July 1994)ph. ...</td>\n",
       "      <td>1</td>\n",
       "    </tr>\n",
       "  </tbody>\n",
       "</table>\n",
       "<p>23999 rows × 2 columns</p>\n",
       "</div>"
      ],
      "text/plain": [
       "                                                    text  label\n",
       "0      Courteney Cox Recreates Classic Friends Scene ...      1\n",
       "1      The Jonas Brothers Have Secret Concert Days Af...      1\n",
       "2      Ariana Grande Sends Heartfelt Message to Her F...      1\n",
       "3      7 of the Biggest Bombshells From Jordyn Woods'...      1\n",
       "4      Fyre Festival's Andy King Spills New Details o...      1\n",
       "...                                                  ...    ...\n",
       "23994  \"Everytime you open your eyes I fall deeper in...      1\n",
       "23995  michaelfaudet:My new book, Smoke &amp; Mirrors...      1\n",
       "23996  Twitter Seems Convinced Melania Trump Uses a S...      1\n",
       "23997  books-n-quotes: “I am still so naïve; I know p...      1\n",
       "23998  jinxproof:Winona RyderTHE FACE (July 1994)ph. ...      1\n",
       "\n",
       "[23999 rows x 2 columns]"
      ]
     },
     "execution_count": 7,
     "metadata": {},
     "output_type": "execute_result"
    }
   ],
   "source": [
    "read"
   ]
  },
  {
   "cell_type": "code",
   "execution_count": 8,
   "id": "ef9dda0f",
   "metadata": {},
   "outputs": [
    {
     "data": {
      "text/plain": [
       "0    12700\n",
       "1    11299\n",
       "Name: label, dtype: int64"
      ]
     },
     "execution_count": 8,
     "metadata": {},
     "output_type": "execute_result"
    }
   ],
   "source": [
    "read.label.value_counts()"
   ]
  },
  {
   "cell_type": "code",
   "execution_count": 17,
   "id": "be1d2e74",
   "metadata": {},
   "outputs": [],
   "source": [
    "x = read.iloc[:,0].values"
   ]
  },
  {
   "cell_type": "code",
   "execution_count": 18,
   "id": "1675180e",
   "metadata": {},
   "outputs": [
    {
     "data": {
      "text/plain": [
       "array(['Courteney Cox Recreates Classic Friends Scene in Real Life Could this be any cuter? Sometimes life imitates fiction… #URL#',\n",
       "       \"The Jonas Brothers Have Secret Concert Days After Releasing New Song The Jonas Brothers are just burnin' up with ex… #URL#\",\n",
       "       'Ariana Grande Sends Heartfelt Message to Her Fans: You Saved My Life Ariana Grande is sending some love to her loya… #URL#',\n",
       "       ...,\n",
       "       'Twitter Seems Convinced Melania Trump Uses a Stand-In Body Double #URL#',\n",
       "       'books-n-quotes: “I am still so naïve; I know pretty much what I like and dislike; but please, don’t... #URL#',\n",
       "       'jinxproof:Winona RyderTHE FACE (July 1994)ph. Ellen von Unwerth #URL#'],\n",
       "      dtype=object)"
      ]
     },
     "execution_count": 18,
     "metadata": {},
     "output_type": "execute_result"
    }
   ],
   "source": [
    "x"
   ]
  },
  {
   "cell_type": "code",
   "execution_count": 19,
   "id": "fda93ef0",
   "metadata": {},
   "outputs": [],
   "source": [
    "y = read.iloc[:,1].values"
   ]
  },
  {
   "cell_type": "code",
   "execution_count": 20,
   "id": "f83b59e0",
   "metadata": {},
   "outputs": [
    {
     "data": {
      "text/plain": [
       "array([1, 1, 1, ..., 1, 1, 1], dtype=int64)"
      ]
     },
     "execution_count": 20,
     "metadata": {},
     "output_type": "execute_result"
    }
   ],
   "source": [
    "y"
   ]
  },
  {
   "cell_type": "code",
   "execution_count": 22,
   "id": "35acf3c3",
   "metadata": {},
   "outputs": [],
   "source": [
    "from sklearn.preprocessing  import LabelEncoder"
   ]
  },
  {
   "cell_type": "code",
   "execution_count": 23,
   "id": "50a3e378",
   "metadata": {},
   "outputs": [],
   "source": [
    "from sklearn.model_selection import train_test_split"
   ]
  },
  {
   "cell_type": "code",
   "execution_count": 24,
   "id": "0e52853b",
   "metadata": {},
   "outputs": [],
   "source": [
    "from sklearn.linear_model import LogisticRegression    "
   ]
  },
  {
   "cell_type": "code",
   "execution_count": 29,
   "id": "411ee722",
   "metadata": {},
   "outputs": [],
   "source": [
    "x_train,x_test,y_train,y_test = train_test_split(x,y,test_size=0.2)\n",
    "logmodel = LogisticRegression()\n"
   ]
  },
  {
   "cell_type": "code",
   "execution_count": 26,
   "id": "a68a87cf",
   "metadata": {},
   "outputs": [],
   "source": []
  },
  {
   "cell_type": "code",
   "execution_count": null,
   "id": "3bf6dbe9",
   "metadata": {},
   "outputs": [],
   "source": []
  },
  {
   "cell_type": "code",
   "execution_count": null,
   "id": "3e86f430",
   "metadata": {},
   "outputs": [],
   "source": []
  }
 ],
 "metadata": {
  "kernelspec": {
   "display_name": "Python 3 (ipykernel)",
   "language": "python",
   "name": "python3"
  },
  "language_info": {
   "codemirror_mode": {
    "name": "ipython",
    "version": 3
   },
   "file_extension": ".py",
   "mimetype": "text/x-python",
   "name": "python",
   "nbconvert_exporter": "python",
   "pygments_lexer": "ipython3",
   "version": "3.9.7"
  }
 },
 "nbformat": 4,
 "nbformat_minor": 5
}
