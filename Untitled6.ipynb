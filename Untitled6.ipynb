{
 "cells": [
  {
   "cell_type": "code",
   "execution_count": 1,
   "id": "77823435",
   "metadata": {},
   "outputs": [],
   "source": [
    "import numpy as np"
   ]
  },
  {
   "cell_type": "code",
   "execution_count": 11,
   "id": "df0e1fb6",
   "metadata": {},
   "outputs": [],
   "source": [
    "a= np.random.normal(loc=1, scale=3, size=(4,2))"
   ]
  },
  {
   "cell_type": "code",
   "execution_count": 13,
   "id": "81a248f2",
   "metadata": {},
   "outputs": [],
   "source": [
    "np.savetxt('demotxt',a)"
   ]
  },
  {
   "cell_type": "code",
   "execution_count": 15,
   "id": "0c467186",
   "metadata": {},
   "outputs": [
    {
     "data": {
      "text/plain": [
       "array([[ 5.56338652, -1.12000732],\n",
       "       [-0.59211312,  3.23241385],\n",
       "       [-0.53524094,  0.80953103],\n",
       "       [-1.41457082, -2.04553076]])"
      ]
     },
     "execution_count": 15,
     "metadata": {},
     "output_type": "execute_result"
    }
   ],
   "source": [
    "np.loadtxt('demotxt')"
   ]
  },
  {
   "cell_type": "code",
   "execution_count": 18,
   "id": "4dec3400",
   "metadata": {},
   "outputs": [
    {
     "data": {
      "text/plain": [
       "0.7689511343387563"
      ]
     },
     "execution_count": 18,
     "metadata": {},
     "output_type": "execute_result"
    }
   ],
   "source": [
    "np.random.random()"
   ]
  },
  {
   "cell_type": "code",
   "execution_count": 50,
   "id": "6d925e5f",
   "metadata": {},
   "outputs": [
    {
     "data": {
      "text/plain": [
       "array([[ 5.56338652, -0.59211312, -0.53524094, -1.41457082],\n",
       "       [-1.12000732,  3.23241385,  0.80953103, -2.04553076]])"
      ]
     },
     "execution_count": 50,
     "metadata": {},
     "output_type": "execute_result"
    }
   ],
   "source": [
    "a=a.T\n",
    "a"
   ]
  },
  {
   "cell_type": "code",
   "execution_count": 52,
   "id": "7e1f8362",
   "metadata": {},
   "outputs": [],
   "source": [
    "a=np.random.randint(0, 10, size = (5,5))\n"
   ]
  },
  {
   "cell_type": "code",
   "execution_count": 54,
   "id": "45b72ce9",
   "metadata": {},
   "outputs": [
    {
     "data": {
      "text/plain": [
       "array([[9, 2, 7, 1, 2]])"
      ]
     },
     "execution_count": 54,
     "metadata": {},
     "output_type": "execute_result"
    }
   ],
   "source": [
    "a\n",
    "a[1:2]"
   ]
  }
 ],
 "metadata": {
  "kernelspec": {
   "display_name": "Python 3 (ipykernel)",
   "language": "python",
   "name": "python3"
  },
  "language_info": {
   "codemirror_mode": {
    "name": "ipython",
    "version": 3
   },
   "file_extension": ".py",
   "mimetype": "text/x-python",
   "name": "python",
   "nbconvert_exporter": "python",
   "pygments_lexer": "ipython3",
   "version": "3.9.7"
  }
 },
 "nbformat": 4,
 "nbformat_minor": 5
}
